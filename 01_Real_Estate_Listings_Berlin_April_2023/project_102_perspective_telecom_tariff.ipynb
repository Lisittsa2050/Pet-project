{
  "cells": [
    {
      "cell_type": "markdown",
      "source": [
        "# <font size='6' color='FF8C00' face='Courier New'>**Real Estate Listings Berlin (DE) April 2023**</font>\n",
        "<hr style=\"margin-bottom: 40px;\">\n"
      ],
      "metadata": {
        "id": "qyA7LuQqMtHp"
      },
      "id": "qyA7LuQqMtHp"
    },
    {
      "cell_type": "markdown",
      "id": "83219220",
      "metadata": {
        "toc": true,
        "id": "83219220"
      },
      "source": [
        "<font size='5' face='Courier New'>**План выполнения проекта**</font>\n",
        "\n",
        "- 1. Загрузка данных и изучение общей информации\n",
        "\n",
        "- 2. Предобработка данных\n",
        "  \n",
        "  - 2.1 Проверка дубликатов\n",
        "  \n",
        "  - 2.2 Проверка пропусков\n",
        "\n",
        "  - 2.3 Изменение типов данных\n",
        "    \n",
        "  - 2.4 Анализ датафрейма на аномалии\n",
        "\n",
        "- 3. Добавление дополнительных признаков\n",
        "\n",
        "  - 3.1 Цена за квартиру в миллионах\n",
        "\n",
        "  - 3.2 Тип энергии\n",
        "\n",
        "  - 3.3 Система отопления в квартирах\n",
        "\n",
        "- 4. Исследовательский анализ данных\n",
        "\n",
        "  - 4.1 Анализ параметров объектов недвижимости\n",
        "  \n",
        "      - 4.1.1 Жилая площадь\n",
        "      - 4.1.2 Количество комнат\n",
        "      - 4.1.3 Параметр цен на квартиры\n",
        "      - 4.1.4 Параметр тип энергии\n",
        "      - 4.1.5 Параметр система отопления\n",
        "      - 4.1.6 Параметры объектов. Итог\n",
        "   \n",
        "  - 4.2 Анализ факторов, влияющих на общую стоимость квартиры\n",
        "\n",
        "      - 4.2.1 Жилая площадь\n",
        "      - 4.2.2 Количество комнат\n",
        "      - 4.2.3 Тип энергии в квартирах\n",
        "      - 4.2.4 Система отопления в квартирах\n",
        "      - 4.2.5 Год постройки домов\n",
        "      - 4.2.6 Какие факторы влияют. Итог\n",
        "    \n",
        "- 5. Вывод на основании проведенного анализа\n"
      ]
    },
    {
      "cell_type": "markdown",
      "id": "fcfb42a5",
      "metadata": {
        "id": "fcfb42a5"
      },
      "source": [
        "# <font size='6' face='Courier New'>**EDA**</font>"
      ]
    },
    {
      "cell_type": "markdown",
      "id": "9b8c0b21",
      "metadata": {
        "id": "9b8c0b21"
      },
      "source": [
        "## 1.Загрузка данных и изучение общей информации"
      ]
    },
    {
      "cell_type": "code",
      "source": [
        "# импорт необходимых библиотек\n",
        "import pandas as pd\n",
        "import numpy as np\n",
        "\n",
        "import matplotlib.pyplot as plt\n",
        "import seaborn as sns\n",
        "\n",
        "import matplotlib.pyplot as plt\n",
        "plt.style.use ('dark_background')\n",
        "\n",
        "pd.set_option('display.max_columns', None)"
      ],
      "metadata": {
        "id": "LFMDW_d3J9CI"
      },
      "id": "LFMDW_d3J9CI",
      "execution_count": 1,
      "outputs": []
    },
    {
      "cell_type": "code",
      "execution_count": 2,
      "metadata": {
        "id": "ec6w9aYsUQHQ"
      },
      "outputs": [],
      "source": [
        "# чтение файла с данными и сохранение в df\n",
        "df = pd.read_csv('real_estate_listings_clean.csv')"
      ],
      "id": "ec6w9aYsUQHQ"
    },
    {
      "cell_type": "code",
      "execution_count": 4,
      "metadata": {
        "id": "Dt5obxH8u6lJ"
      },
      "outputs": [],
      "source": [
        "# получим общую информацию о данных\n",
        "def berlin_dataframe_info(df):\n",
        "    try:\n",
        "        display('Первые пять строк данных:')\n",
        "        display(df.head(5))\n",
        "        display('Описание данных:')\n",
        "        display(df.describe())\n",
        "        display('Общая информацию о датафрейме')\n",
        "        display(df.info())\n",
        "        display('Графическое отображение количества пропусков')\n",
        "        display(pd.DataFrame(round(df.isna().mean() * 100, 1)).style.background_gradient('Greys'))\n",
        "    except:\n",
        "        return 'Проверьте параметры'"
      ],
      "id": "Dt5obxH8u6lJ"
    },
    {
      "cell_type": "code",
      "execution_count": 5,
      "metadata": {
        "colab": {
          "base_uri": "https://localhost:8080/",
          "height": 1000
        },
        "id": "POwKJLnyAZSk",
        "outputId": "730d98b0-6b19-4b12-ce74-ac4cc7379afd"
      },
      "outputs": [
        {
          "output_type": "display_data",
          "data": {
            "text/plain": [
              "'Первые пять строк данных:'"
            ],
            "application/vnd.google.colaboratory.intrinsic+json": {
              "type": "string"
            }
          },
          "metadata": {}
        },
        {
          "output_type": "display_data",
          "data": {
            "text/plain": [
              "                                      url energy                    heating  \\\n",
              "0  https://www.immowelt.de/expose/29fhx5b     Öl             Zentralheizung   \n",
              "1  https://www.immowelt.de/expose/29hzk5u    Gas  Fußbodenheizung, offener    \n",
              "2  https://www.immowelt.de/expose/292m95u    Gas              Etagenheizung   \n",
              "3  https://www.immowelt.de/expose/29sh55u    Gas             Zentralheizung   \n",
              "4  https://www.immowelt.de/expose/29r5y5t    Gas              Etagenheizung   \n",
              "\n",
              "       price    area  rooms   fee  zipcode  construction_year  level  \\\n",
              "0   249000.0   64.00    3.0  3.57  13505.0             1971.0    2.0   \n",
              "1  1295000.0  136.06    4.0  3.57  10405.0             1900.0    5.0   \n",
              "2   770000.0  120.00    4.0  3.57  12161.0             1900.0    5.0   \n",
              "3   349000.0  158.00    5.0  3.57  12103.0             1956.0    1.0   \n",
              "4   494990.0  126.00    4.0  3.57  12157.0             1909.0    3.0   \n",
              "\n",
              "   price_per_area  \n",
              "0     3890.625000  \n",
              "1     9517.859768  \n",
              "2     6416.666667  \n",
              "3     2208.860759  \n",
              "4     3928.492063  "
            ],
            "text/html": [
              "\n",
              "  <div id=\"df-080f169e-fd41-4f67-a1f4-9f49df2318d3\" class=\"colab-df-container\">\n",
              "    <div>\n",
              "<style scoped>\n",
              "    .dataframe tbody tr th:only-of-type {\n",
              "        vertical-align: middle;\n",
              "    }\n",
              "\n",
              "    .dataframe tbody tr th {\n",
              "        vertical-align: top;\n",
              "    }\n",
              "\n",
              "    .dataframe thead th {\n",
              "        text-align: right;\n",
              "    }\n",
              "</style>\n",
              "<table border=\"1\" class=\"dataframe\">\n",
              "  <thead>\n",
              "    <tr style=\"text-align: right;\">\n",
              "      <th></th>\n",
              "      <th>url</th>\n",
              "      <th>energy</th>\n",
              "      <th>heating</th>\n",
              "      <th>price</th>\n",
              "      <th>area</th>\n",
              "      <th>rooms</th>\n",
              "      <th>fee</th>\n",
              "      <th>zipcode</th>\n",
              "      <th>construction_year</th>\n",
              "      <th>level</th>\n",
              "      <th>price_per_area</th>\n",
              "    </tr>\n",
              "  </thead>\n",
              "  <tbody>\n",
              "    <tr>\n",
              "      <th>0</th>\n",
              "      <td>https://www.immowelt.de/expose/29fhx5b</td>\n",
              "      <td>Öl</td>\n",
              "      <td>Zentralheizung</td>\n",
              "      <td>249000.0</td>\n",
              "      <td>64.00</td>\n",
              "      <td>3.0</td>\n",
              "      <td>3.57</td>\n",
              "      <td>13505.0</td>\n",
              "      <td>1971.0</td>\n",
              "      <td>2.0</td>\n",
              "      <td>3890.625000</td>\n",
              "    </tr>\n",
              "    <tr>\n",
              "      <th>1</th>\n",
              "      <td>https://www.immowelt.de/expose/29hzk5u</td>\n",
              "      <td>Gas</td>\n",
              "      <td>Fußbodenheizung, offener</td>\n",
              "      <td>1295000.0</td>\n",
              "      <td>136.06</td>\n",
              "      <td>4.0</td>\n",
              "      <td>3.57</td>\n",
              "      <td>10405.0</td>\n",
              "      <td>1900.0</td>\n",
              "      <td>5.0</td>\n",
              "      <td>9517.859768</td>\n",
              "    </tr>\n",
              "    <tr>\n",
              "      <th>2</th>\n",
              "      <td>https://www.immowelt.de/expose/292m95u</td>\n",
              "      <td>Gas</td>\n",
              "      <td>Etagenheizung</td>\n",
              "      <td>770000.0</td>\n",
              "      <td>120.00</td>\n",
              "      <td>4.0</td>\n",
              "      <td>3.57</td>\n",
              "      <td>12161.0</td>\n",
              "      <td>1900.0</td>\n",
              "      <td>5.0</td>\n",
              "      <td>6416.666667</td>\n",
              "    </tr>\n",
              "    <tr>\n",
              "      <th>3</th>\n",
              "      <td>https://www.immowelt.de/expose/29sh55u</td>\n",
              "      <td>Gas</td>\n",
              "      <td>Zentralheizung</td>\n",
              "      <td>349000.0</td>\n",
              "      <td>158.00</td>\n",
              "      <td>5.0</td>\n",
              "      <td>3.57</td>\n",
              "      <td>12103.0</td>\n",
              "      <td>1956.0</td>\n",
              "      <td>1.0</td>\n",
              "      <td>2208.860759</td>\n",
              "    </tr>\n",
              "    <tr>\n",
              "      <th>4</th>\n",
              "      <td>https://www.immowelt.de/expose/29r5y5t</td>\n",
              "      <td>Gas</td>\n",
              "      <td>Etagenheizung</td>\n",
              "      <td>494990.0</td>\n",
              "      <td>126.00</td>\n",
              "      <td>4.0</td>\n",
              "      <td>3.57</td>\n",
              "      <td>12157.0</td>\n",
              "      <td>1909.0</td>\n",
              "      <td>3.0</td>\n",
              "      <td>3928.492063</td>\n",
              "    </tr>\n",
              "  </tbody>\n",
              "</table>\n",
              "</div>\n",
              "    <div class=\"colab-df-buttons\">\n",
              "\n",
              "  <div class=\"colab-df-container\">\n",
              "    <button class=\"colab-df-convert\" onclick=\"convertToInteractive('df-080f169e-fd41-4f67-a1f4-9f49df2318d3')\"\n",
              "            title=\"Convert this dataframe to an interactive table.\"\n",
              "            style=\"display:none;\">\n",
              "\n",
              "  <svg xmlns=\"http://www.w3.org/2000/svg\" height=\"24px\" viewBox=\"0 -960 960 960\">\n",
              "    <path d=\"M120-120v-720h720v720H120Zm60-500h600v-160H180v160Zm220 220h160v-160H400v160Zm0 220h160v-160H400v160ZM180-400h160v-160H180v160Zm440 0h160v-160H620v160ZM180-180h160v-160H180v160Zm440 0h160v-160H620v160Z\"/>\n",
              "  </svg>\n",
              "    </button>\n",
              "\n",
              "  <style>\n",
              "    .colab-df-container {\n",
              "      display:flex;\n",
              "      gap: 12px;\n",
              "    }\n",
              "\n",
              "    .colab-df-convert {\n",
              "      background-color: #E8F0FE;\n",
              "      border: none;\n",
              "      border-radius: 50%;\n",
              "      cursor: pointer;\n",
              "      display: none;\n",
              "      fill: #1967D2;\n",
              "      height: 32px;\n",
              "      padding: 0 0 0 0;\n",
              "      width: 32px;\n",
              "    }\n",
              "\n",
              "    .colab-df-convert:hover {\n",
              "      background-color: #E2EBFA;\n",
              "      box-shadow: 0px 1px 2px rgba(60, 64, 67, 0.3), 0px 1px 3px 1px rgba(60, 64, 67, 0.15);\n",
              "      fill: #174EA6;\n",
              "    }\n",
              "\n",
              "    .colab-df-buttons div {\n",
              "      margin-bottom: 4px;\n",
              "    }\n",
              "\n",
              "    [theme=dark] .colab-df-convert {\n",
              "      background-color: #3B4455;\n",
              "      fill: #D2E3FC;\n",
              "    }\n",
              "\n",
              "    [theme=dark] .colab-df-convert:hover {\n",
              "      background-color: #434B5C;\n",
              "      box-shadow: 0px 1px 3px 1px rgba(0, 0, 0, 0.15);\n",
              "      filter: drop-shadow(0px 1px 2px rgba(0, 0, 0, 0.3));\n",
              "      fill: #FFFFFF;\n",
              "    }\n",
              "  </style>\n",
              "\n",
              "    <script>\n",
              "      const buttonEl =\n",
              "        document.querySelector('#df-080f169e-fd41-4f67-a1f4-9f49df2318d3 button.colab-df-convert');\n",
              "      buttonEl.style.display =\n",
              "        google.colab.kernel.accessAllowed ? 'block' : 'none';\n",
              "\n",
              "      async function convertToInteractive(key) {\n",
              "        const element = document.querySelector('#df-080f169e-fd41-4f67-a1f4-9f49df2318d3');\n",
              "        const dataTable =\n",
              "          await google.colab.kernel.invokeFunction('convertToInteractive',\n",
              "                                                    [key], {});\n",
              "        if (!dataTable) return;\n",
              "\n",
              "        const docLinkHtml = 'Like what you see? Visit the ' +\n",
              "          '<a target=\"_blank\" href=https://colab.research.google.com/notebooks/data_table.ipynb>data table notebook</a>'\n",
              "          + ' to learn more about interactive tables.';\n",
              "        element.innerHTML = '';\n",
              "        dataTable['output_type'] = 'display_data';\n",
              "        await google.colab.output.renderOutput(dataTable, element);\n",
              "        const docLink = document.createElement('div');\n",
              "        docLink.innerHTML = docLinkHtml;\n",
              "        element.appendChild(docLink);\n",
              "      }\n",
              "    </script>\n",
              "  </div>\n",
              "\n",
              "\n",
              "<div id=\"df-86b18c7a-bd94-41fd-9043-48ab428a92a1\">\n",
              "  <button class=\"colab-df-quickchart\" onclick=\"quickchart('df-86b18c7a-bd94-41fd-9043-48ab428a92a1')\"\n",
              "            title=\"Suggest charts\"\n",
              "            style=\"display:none;\">\n",
              "\n",
              "<svg xmlns=\"http://www.w3.org/2000/svg\" height=\"24px\"viewBox=\"0 0 24 24\"\n",
              "     width=\"24px\">\n",
              "    <g>\n",
              "        <path d=\"M19 3H5c-1.1 0-2 .9-2 2v14c0 1.1.9 2 2 2h14c1.1 0 2-.9 2-2V5c0-1.1-.9-2-2-2zM9 17H7v-7h2v7zm4 0h-2V7h2v10zm4 0h-2v-4h2v4z\"/>\n",
              "    </g>\n",
              "</svg>\n",
              "  </button>\n",
              "\n",
              "<style>\n",
              "  .colab-df-quickchart {\n",
              "      --bg-color: #E8F0FE;\n",
              "      --fill-color: #1967D2;\n",
              "      --hover-bg-color: #E2EBFA;\n",
              "      --hover-fill-color: #174EA6;\n",
              "      --disabled-fill-color: #AAA;\n",
              "      --disabled-bg-color: #DDD;\n",
              "  }\n",
              "\n",
              "  [theme=dark] .colab-df-quickchart {\n",
              "      --bg-color: #3B4455;\n",
              "      --fill-color: #D2E3FC;\n",
              "      --hover-bg-color: #434B5C;\n",
              "      --hover-fill-color: #FFFFFF;\n",
              "      --disabled-bg-color: #3B4455;\n",
              "      --disabled-fill-color: #666;\n",
              "  }\n",
              "\n",
              "  .colab-df-quickchart {\n",
              "    background-color: var(--bg-color);\n",
              "    border: none;\n",
              "    border-radius: 50%;\n",
              "    cursor: pointer;\n",
              "    display: none;\n",
              "    fill: var(--fill-color);\n",
              "    height: 32px;\n",
              "    padding: 0;\n",
              "    width: 32px;\n",
              "  }\n",
              "\n",
              "  .colab-df-quickchart:hover {\n",
              "    background-color: var(--hover-bg-color);\n",
              "    box-shadow: 0 1px 2px rgba(60, 64, 67, 0.3), 0 1px 3px 1px rgba(60, 64, 67, 0.15);\n",
              "    fill: var(--button-hover-fill-color);\n",
              "  }\n",
              "\n",
              "  .colab-df-quickchart-complete:disabled,\n",
              "  .colab-df-quickchart-complete:disabled:hover {\n",
              "    background-color: var(--disabled-bg-color);\n",
              "    fill: var(--disabled-fill-color);\n",
              "    box-shadow: none;\n",
              "  }\n",
              "\n",
              "  .colab-df-spinner {\n",
              "    border: 2px solid var(--fill-color);\n",
              "    border-color: transparent;\n",
              "    border-bottom-color: var(--fill-color);\n",
              "    animation:\n",
              "      spin 1s steps(1) infinite;\n",
              "  }\n",
              "\n",
              "  @keyframes spin {\n",
              "    0% {\n",
              "      border-color: transparent;\n",
              "      border-bottom-color: var(--fill-color);\n",
              "      border-left-color: var(--fill-color);\n",
              "    }\n",
              "    20% {\n",
              "      border-color: transparent;\n",
              "      border-left-color: var(--fill-color);\n",
              "      border-top-color: var(--fill-color);\n",
              "    }\n",
              "    30% {\n",
              "      border-color: transparent;\n",
              "      border-left-color: var(--fill-color);\n",
              "      border-top-color: var(--fill-color);\n",
              "      border-right-color: var(--fill-color);\n",
              "    }\n",
              "    40% {\n",
              "      border-color: transparent;\n",
              "      border-right-color: var(--fill-color);\n",
              "      border-top-color: var(--fill-color);\n",
              "    }\n",
              "    60% {\n",
              "      border-color: transparent;\n",
              "      border-right-color: var(--fill-color);\n",
              "    }\n",
              "    80% {\n",
              "      border-color: transparent;\n",
              "      border-right-color: var(--fill-color);\n",
              "      border-bottom-color: var(--fill-color);\n",
              "    }\n",
              "    90% {\n",
              "      border-color: transparent;\n",
              "      border-bottom-color: var(--fill-color);\n",
              "    }\n",
              "  }\n",
              "</style>\n",
              "\n",
              "  <script>\n",
              "    async function quickchart(key) {\n",
              "      const quickchartButtonEl =\n",
              "        document.querySelector('#' + key + ' button');\n",
              "      quickchartButtonEl.disabled = true;  // To prevent multiple clicks.\n",
              "      quickchartButtonEl.classList.add('colab-df-spinner');\n",
              "      try {\n",
              "        const charts = await google.colab.kernel.invokeFunction(\n",
              "            'suggestCharts', [key], {});\n",
              "      } catch (error) {\n",
              "        console.error('Error during call to suggestCharts:', error);\n",
              "      }\n",
              "      quickchartButtonEl.classList.remove('colab-df-spinner');\n",
              "      quickchartButtonEl.classList.add('colab-df-quickchart-complete');\n",
              "    }\n",
              "    (() => {\n",
              "      let quickchartButtonEl =\n",
              "        document.querySelector('#df-86b18c7a-bd94-41fd-9043-48ab428a92a1 button');\n",
              "      quickchartButtonEl.style.display =\n",
              "        google.colab.kernel.accessAllowed ? 'block' : 'none';\n",
              "    })();\n",
              "  </script>\n",
              "</div>\n",
              "    </div>\n",
              "  </div>\n"
            ]
          },
          "metadata": {}
        },
        {
          "output_type": "display_data",
          "data": {
            "text/plain": [
              "'Описание данных:'"
            ],
            "application/vnd.google.colaboratory.intrinsic+json": {
              "type": "string"
            }
          },
          "metadata": {}
        },
        {
          "output_type": "display_data",
          "data": {
            "text/plain": [
              "              price         area        rooms          fee       zipcode  \\\n",
              "count  4.942000e+03  4942.000000  4942.000000  4942.000000   4942.000000   \n",
              "mean   5.654009e+05    85.067321     2.805544     5.891574  11954.461554   \n",
              "std    6.107572e+05    58.315922     1.582906   121.004862   1628.058346   \n",
              "min    3.495000e+04    13.000000     1.000000    -3.500000   1099.000000   \n",
              "25%    2.590000e+05    54.070000     2.000000     3.570000  10589.000000   \n",
              "50%    3.899000e+05    72.740000     3.000000     3.570000  12161.000000   \n",
              "75%    6.690000e+05   101.000000     3.000000     3.570000  13088.000000   \n",
              "max    1.590000e+07   970.000000    26.000000  7996.000000  77933.000000   \n",
              "\n",
              "       construction_year        level  price_per_area  \n",
              "count        4942.000000  4942.000000     4942.000000  \n",
              "mean         1944.344193     3.401255     6401.269284  \n",
              "std           143.609751    29.137154     3183.956274  \n",
              "min             1.000000     1.000000      956.521739  \n",
              "25%          1910.000000     1.000000     4537.537879  \n",
              "50%          1956.000000     1.000000     5843.852267  \n",
              "75%          1994.000000     3.000000     8063.468346  \n",
              "max          2026.000000  2023.000000    87739.070663  "
            ],
            "text/html": [
              "\n",
              "  <div id=\"df-044ed0d4-0d3e-4562-b1dd-c54370724713\" class=\"colab-df-container\">\n",
              "    <div>\n",
              "<style scoped>\n",
              "    .dataframe tbody tr th:only-of-type {\n",
              "        vertical-align: middle;\n",
              "    }\n",
              "\n",
              "    .dataframe tbody tr th {\n",
              "        vertical-align: top;\n",
              "    }\n",
              "\n",
              "    .dataframe thead th {\n",
              "        text-align: right;\n",
              "    }\n",
              "</style>\n",
              "<table border=\"1\" class=\"dataframe\">\n",
              "  <thead>\n",
              "    <tr style=\"text-align: right;\">\n",
              "      <th></th>\n",
              "      <th>price</th>\n",
              "      <th>area</th>\n",
              "      <th>rooms</th>\n",
              "      <th>fee</th>\n",
              "      <th>zipcode</th>\n",
              "      <th>construction_year</th>\n",
              "      <th>level</th>\n",
              "      <th>price_per_area</th>\n",
              "    </tr>\n",
              "  </thead>\n",
              "  <tbody>\n",
              "    <tr>\n",
              "      <th>count</th>\n",
              "      <td>4.942000e+03</td>\n",
              "      <td>4942.000000</td>\n",
              "      <td>4942.000000</td>\n",
              "      <td>4942.000000</td>\n",
              "      <td>4942.000000</td>\n",
              "      <td>4942.000000</td>\n",
              "      <td>4942.000000</td>\n",
              "      <td>4942.000000</td>\n",
              "    </tr>\n",
              "    <tr>\n",
              "      <th>mean</th>\n",
              "      <td>5.654009e+05</td>\n",
              "      <td>85.067321</td>\n",
              "      <td>2.805544</td>\n",
              "      <td>5.891574</td>\n",
              "      <td>11954.461554</td>\n",
              "      <td>1944.344193</td>\n",
              "      <td>3.401255</td>\n",
              "      <td>6401.269284</td>\n",
              "    </tr>\n",
              "    <tr>\n",
              "      <th>std</th>\n",
              "      <td>6.107572e+05</td>\n",
              "      <td>58.315922</td>\n",
              "      <td>1.582906</td>\n",
              "      <td>121.004862</td>\n",
              "      <td>1628.058346</td>\n",
              "      <td>143.609751</td>\n",
              "      <td>29.137154</td>\n",
              "      <td>3183.956274</td>\n",
              "    </tr>\n",
              "    <tr>\n",
              "      <th>min</th>\n",
              "      <td>3.495000e+04</td>\n",
              "      <td>13.000000</td>\n",
              "      <td>1.000000</td>\n",
              "      <td>-3.500000</td>\n",
              "      <td>1099.000000</td>\n",
              "      <td>1.000000</td>\n",
              "      <td>1.000000</td>\n",
              "      <td>956.521739</td>\n",
              "    </tr>\n",
              "    <tr>\n",
              "      <th>25%</th>\n",
              "      <td>2.590000e+05</td>\n",
              "      <td>54.070000</td>\n",
              "      <td>2.000000</td>\n",
              "      <td>3.570000</td>\n",
              "      <td>10589.000000</td>\n",
              "      <td>1910.000000</td>\n",
              "      <td>1.000000</td>\n",
              "      <td>4537.537879</td>\n",
              "    </tr>\n",
              "    <tr>\n",
              "      <th>50%</th>\n",
              "      <td>3.899000e+05</td>\n",
              "      <td>72.740000</td>\n",
              "      <td>3.000000</td>\n",
              "      <td>3.570000</td>\n",
              "      <td>12161.000000</td>\n",
              "      <td>1956.000000</td>\n",
              "      <td>1.000000</td>\n",
              "      <td>5843.852267</td>\n",
              "    </tr>\n",
              "    <tr>\n",
              "      <th>75%</th>\n",
              "      <td>6.690000e+05</td>\n",
              "      <td>101.000000</td>\n",
              "      <td>3.000000</td>\n",
              "      <td>3.570000</td>\n",
              "      <td>13088.000000</td>\n",
              "      <td>1994.000000</td>\n",
              "      <td>3.000000</td>\n",
              "      <td>8063.468346</td>\n",
              "    </tr>\n",
              "    <tr>\n",
              "      <th>max</th>\n",
              "      <td>1.590000e+07</td>\n",
              "      <td>970.000000</td>\n",
              "      <td>26.000000</td>\n",
              "      <td>7996.000000</td>\n",
              "      <td>77933.000000</td>\n",
              "      <td>2026.000000</td>\n",
              "      <td>2023.000000</td>\n",
              "      <td>87739.070663</td>\n",
              "    </tr>\n",
              "  </tbody>\n",
              "</table>\n",
              "</div>\n",
              "    <div class=\"colab-df-buttons\">\n",
              "\n",
              "  <div class=\"colab-df-container\">\n",
              "    <button class=\"colab-df-convert\" onclick=\"convertToInteractive('df-044ed0d4-0d3e-4562-b1dd-c54370724713')\"\n",
              "            title=\"Convert this dataframe to an interactive table.\"\n",
              "            style=\"display:none;\">\n",
              "\n",
              "  <svg xmlns=\"http://www.w3.org/2000/svg\" height=\"24px\" viewBox=\"0 -960 960 960\">\n",
              "    <path d=\"M120-120v-720h720v720H120Zm60-500h600v-160H180v160Zm220 220h160v-160H400v160Zm0 220h160v-160H400v160ZM180-400h160v-160H180v160Zm440 0h160v-160H620v160ZM180-180h160v-160H180v160Zm440 0h160v-160H620v160Z\"/>\n",
              "  </svg>\n",
              "    </button>\n",
              "\n",
              "  <style>\n",
              "    .colab-df-container {\n",
              "      display:flex;\n",
              "      gap: 12px;\n",
              "    }\n",
              "\n",
              "    .colab-df-convert {\n",
              "      background-color: #E8F0FE;\n",
              "      border: none;\n",
              "      border-radius: 50%;\n",
              "      cursor: pointer;\n",
              "      display: none;\n",
              "      fill: #1967D2;\n",
              "      height: 32px;\n",
              "      padding: 0 0 0 0;\n",
              "      width: 32px;\n",
              "    }\n",
              "\n",
              "    .colab-df-convert:hover {\n",
              "      background-color: #E2EBFA;\n",
              "      box-shadow: 0px 1px 2px rgba(60, 64, 67, 0.3), 0px 1px 3px 1px rgba(60, 64, 67, 0.15);\n",
              "      fill: #174EA6;\n",
              "    }\n",
              "\n",
              "    .colab-df-buttons div {\n",
              "      margin-bottom: 4px;\n",
              "    }\n",
              "\n",
              "    [theme=dark] .colab-df-convert {\n",
              "      background-color: #3B4455;\n",
              "      fill: #D2E3FC;\n",
              "    }\n",
              "\n",
              "    [theme=dark] .colab-df-convert:hover {\n",
              "      background-color: #434B5C;\n",
              "      box-shadow: 0px 1px 3px 1px rgba(0, 0, 0, 0.15);\n",
              "      filter: drop-shadow(0px 1px 2px rgba(0, 0, 0, 0.3));\n",
              "      fill: #FFFFFF;\n",
              "    }\n",
              "  </style>\n",
              "\n",
              "    <script>\n",
              "      const buttonEl =\n",
              "        document.querySelector('#df-044ed0d4-0d3e-4562-b1dd-c54370724713 button.colab-df-convert');\n",
              "      buttonEl.style.display =\n",
              "        google.colab.kernel.accessAllowed ? 'block' : 'none';\n",
              "\n",
              "      async function convertToInteractive(key) {\n",
              "        const element = document.querySelector('#df-044ed0d4-0d3e-4562-b1dd-c54370724713');\n",
              "        const dataTable =\n",
              "          await google.colab.kernel.invokeFunction('convertToInteractive',\n",
              "                                                    [key], {});\n",
              "        if (!dataTable) return;\n",
              "\n",
              "        const docLinkHtml = 'Like what you see? Visit the ' +\n",
              "          '<a target=\"_blank\" href=https://colab.research.google.com/notebooks/data_table.ipynb>data table notebook</a>'\n",
              "          + ' to learn more about interactive tables.';\n",
              "        element.innerHTML = '';\n",
              "        dataTable['output_type'] = 'display_data';\n",
              "        await google.colab.output.renderOutput(dataTable, element);\n",
              "        const docLink = document.createElement('div');\n",
              "        docLink.innerHTML = docLinkHtml;\n",
              "        element.appendChild(docLink);\n",
              "      }\n",
              "    </script>\n",
              "  </div>\n",
              "\n",
              "\n",
              "<div id=\"df-14b1c13f-9093-4cb7-9e57-796c64381508\">\n",
              "  <button class=\"colab-df-quickchart\" onclick=\"quickchart('df-14b1c13f-9093-4cb7-9e57-796c64381508')\"\n",
              "            title=\"Suggest charts\"\n",
              "            style=\"display:none;\">\n",
              "\n",
              "<svg xmlns=\"http://www.w3.org/2000/svg\" height=\"24px\"viewBox=\"0 0 24 24\"\n",
              "     width=\"24px\">\n",
              "    <g>\n",
              "        <path d=\"M19 3H5c-1.1 0-2 .9-2 2v14c0 1.1.9 2 2 2h14c1.1 0 2-.9 2-2V5c0-1.1-.9-2-2-2zM9 17H7v-7h2v7zm4 0h-2V7h2v10zm4 0h-2v-4h2v4z\"/>\n",
              "    </g>\n",
              "</svg>\n",
              "  </button>\n",
              "\n",
              "<style>\n",
              "  .colab-df-quickchart {\n",
              "      --bg-color: #E8F0FE;\n",
              "      --fill-color: #1967D2;\n",
              "      --hover-bg-color: #E2EBFA;\n",
              "      --hover-fill-color: #174EA6;\n",
              "      --disabled-fill-color: #AAA;\n",
              "      --disabled-bg-color: #DDD;\n",
              "  }\n",
              "\n",
              "  [theme=dark] .colab-df-quickchart {\n",
              "      --bg-color: #3B4455;\n",
              "      --fill-color: #D2E3FC;\n",
              "      --hover-bg-color: #434B5C;\n",
              "      --hover-fill-color: #FFFFFF;\n",
              "      --disabled-bg-color: #3B4455;\n",
              "      --disabled-fill-color: #666;\n",
              "  }\n",
              "\n",
              "  .colab-df-quickchart {\n",
              "    background-color: var(--bg-color);\n",
              "    border: none;\n",
              "    border-radius: 50%;\n",
              "    cursor: pointer;\n",
              "    display: none;\n",
              "    fill: var(--fill-color);\n",
              "    height: 32px;\n",
              "    padding: 0;\n",
              "    width: 32px;\n",
              "  }\n",
              "\n",
              "  .colab-df-quickchart:hover {\n",
              "    background-color: var(--hover-bg-color);\n",
              "    box-shadow: 0 1px 2px rgba(60, 64, 67, 0.3), 0 1px 3px 1px rgba(60, 64, 67, 0.15);\n",
              "    fill: var(--button-hover-fill-color);\n",
              "  }\n",
              "\n",
              "  .colab-df-quickchart-complete:disabled,\n",
              "  .colab-df-quickchart-complete:disabled:hover {\n",
              "    background-color: var(--disabled-bg-color);\n",
              "    fill: var(--disabled-fill-color);\n",
              "    box-shadow: none;\n",
              "  }\n",
              "\n",
              "  .colab-df-spinner {\n",
              "    border: 2px solid var(--fill-color);\n",
              "    border-color: transparent;\n",
              "    border-bottom-color: var(--fill-color);\n",
              "    animation:\n",
              "      spin 1s steps(1) infinite;\n",
              "  }\n",
              "\n",
              "  @keyframes spin {\n",
              "    0% {\n",
              "      border-color: transparent;\n",
              "      border-bottom-color: var(--fill-color);\n",
              "      border-left-color: var(--fill-color);\n",
              "    }\n",
              "    20% {\n",
              "      border-color: transparent;\n",
              "      border-left-color: var(--fill-color);\n",
              "      border-top-color: var(--fill-color);\n",
              "    }\n",
              "    30% {\n",
              "      border-color: transparent;\n",
              "      border-left-color: var(--fill-color);\n",
              "      border-top-color: var(--fill-color);\n",
              "      border-right-color: var(--fill-color);\n",
              "    }\n",
              "    40% {\n",
              "      border-color: transparent;\n",
              "      border-right-color: var(--fill-color);\n",
              "      border-top-color: var(--fill-color);\n",
              "    }\n",
              "    60% {\n",
              "      border-color: transparent;\n",
              "      border-right-color: var(--fill-color);\n",
              "    }\n",
              "    80% {\n",
              "      border-color: transparent;\n",
              "      border-right-color: var(--fill-color);\n",
              "      border-bottom-color: var(--fill-color);\n",
              "    }\n",
              "    90% {\n",
              "      border-color: transparent;\n",
              "      border-bottom-color: var(--fill-color);\n",
              "    }\n",
              "  }\n",
              "</style>\n",
              "\n",
              "  <script>\n",
              "    async function quickchart(key) {\n",
              "      const quickchartButtonEl =\n",
              "        document.querySelector('#' + key + ' button');\n",
              "      quickchartButtonEl.disabled = true;  // To prevent multiple clicks.\n",
              "      quickchartButtonEl.classList.add('colab-df-spinner');\n",
              "      try {\n",
              "        const charts = await google.colab.kernel.invokeFunction(\n",
              "            'suggestCharts', [key], {});\n",
              "      } catch (error) {\n",
              "        console.error('Error during call to suggestCharts:', error);\n",
              "      }\n",
              "      quickchartButtonEl.classList.remove('colab-df-spinner');\n",
              "      quickchartButtonEl.classList.add('colab-df-quickchart-complete');\n",
              "    }\n",
              "    (() => {\n",
              "      let quickchartButtonEl =\n",
              "        document.querySelector('#df-14b1c13f-9093-4cb7-9e57-796c64381508 button');\n",
              "      quickchartButtonEl.style.display =\n",
              "        google.colab.kernel.accessAllowed ? 'block' : 'none';\n",
              "    })();\n",
              "  </script>\n",
              "</div>\n",
              "    </div>\n",
              "  </div>\n"
            ]
          },
          "metadata": {}
        },
        {
          "output_type": "display_data",
          "data": {
            "text/plain": [
              "'Общая информацию о датафрейме'"
            ],
            "application/vnd.google.colaboratory.intrinsic+json": {
              "type": "string"
            }
          },
          "metadata": {}
        },
        {
          "output_type": "stream",
          "name": "stdout",
          "text": [
            "<class 'pandas.core.frame.DataFrame'>\n",
            "RangeIndex: 4942 entries, 0 to 4941\n",
            "Data columns (total 11 columns):\n",
            " #   Column             Non-Null Count  Dtype  \n",
            "---  ------             --------------  -----  \n",
            " 0   url                4942 non-null   object \n",
            " 1   energy             4942 non-null   object \n",
            " 2   heating            4942 non-null   object \n",
            " 3   price              4942 non-null   float64\n",
            " 4   area               4942 non-null   float64\n",
            " 5   rooms              4942 non-null   float64\n",
            " 6   fee                4942 non-null   float64\n",
            " 7   zipcode            4942 non-null   float64\n",
            " 8   construction_year  4942 non-null   float64\n",
            " 9   level              4942 non-null   float64\n",
            " 10  price_per_area     4942 non-null   float64\n",
            "dtypes: float64(8), object(3)\n",
            "memory usage: 424.8+ KB\n"
          ]
        },
        {
          "output_type": "display_data",
          "data": {
            "text/plain": [
              "None"
            ]
          },
          "metadata": {}
        },
        {
          "output_type": "display_data",
          "data": {
            "text/plain": [
              "'Графическое отображение количества пропусков'"
            ],
            "application/vnd.google.colaboratory.intrinsic+json": {
              "type": "string"
            }
          },
          "metadata": {}
        },
        {
          "output_type": "display_data",
          "data": {
            "text/plain": [
              "<pandas.io.formats.style.Styler at 0x7b0b7ebf4d90>"
            ],
            "text/html": [
              "<style type=\"text/css\">\n",
              "#T_b6d42_row0_col0, #T_b6d42_row1_col0, #T_b6d42_row2_col0, #T_b6d42_row3_col0, #T_b6d42_row4_col0, #T_b6d42_row5_col0, #T_b6d42_row6_col0, #T_b6d42_row7_col0, #T_b6d42_row8_col0, #T_b6d42_row9_col0, #T_b6d42_row10_col0 {\n",
              "  background-color: #ffffff;\n",
              "  color: #000000;\n",
              "}\n",
              "</style>\n",
              "<table id=\"T_b6d42\" class=\"dataframe\">\n",
              "  <thead>\n",
              "    <tr>\n",
              "      <th class=\"blank level0\" >&nbsp;</th>\n",
              "      <th id=\"T_b6d42_level0_col0\" class=\"col_heading level0 col0\" >0</th>\n",
              "    </tr>\n",
              "  </thead>\n",
              "  <tbody>\n",
              "    <tr>\n",
              "      <th id=\"T_b6d42_level0_row0\" class=\"row_heading level0 row0\" >url</th>\n",
              "      <td id=\"T_b6d42_row0_col0\" class=\"data row0 col0\" >0.000000</td>\n",
              "    </tr>\n",
              "    <tr>\n",
              "      <th id=\"T_b6d42_level0_row1\" class=\"row_heading level0 row1\" >energy</th>\n",
              "      <td id=\"T_b6d42_row1_col0\" class=\"data row1 col0\" >0.000000</td>\n",
              "    </tr>\n",
              "    <tr>\n",
              "      <th id=\"T_b6d42_level0_row2\" class=\"row_heading level0 row2\" >heating</th>\n",
              "      <td id=\"T_b6d42_row2_col0\" class=\"data row2 col0\" >0.000000</td>\n",
              "    </tr>\n",
              "    <tr>\n",
              "      <th id=\"T_b6d42_level0_row3\" class=\"row_heading level0 row3\" >price</th>\n",
              "      <td id=\"T_b6d42_row3_col0\" class=\"data row3 col0\" >0.000000</td>\n",
              "    </tr>\n",
              "    <tr>\n",
              "      <th id=\"T_b6d42_level0_row4\" class=\"row_heading level0 row4\" >area</th>\n",
              "      <td id=\"T_b6d42_row4_col0\" class=\"data row4 col0\" >0.000000</td>\n",
              "    </tr>\n",
              "    <tr>\n",
              "      <th id=\"T_b6d42_level0_row5\" class=\"row_heading level0 row5\" >rooms</th>\n",
              "      <td id=\"T_b6d42_row5_col0\" class=\"data row5 col0\" >0.000000</td>\n",
              "    </tr>\n",
              "    <tr>\n",
              "      <th id=\"T_b6d42_level0_row6\" class=\"row_heading level0 row6\" >fee</th>\n",
              "      <td id=\"T_b6d42_row6_col0\" class=\"data row6 col0\" >0.000000</td>\n",
              "    </tr>\n",
              "    <tr>\n",
              "      <th id=\"T_b6d42_level0_row7\" class=\"row_heading level0 row7\" >zipcode</th>\n",
              "      <td id=\"T_b6d42_row7_col0\" class=\"data row7 col0\" >0.000000</td>\n",
              "    </tr>\n",
              "    <tr>\n",
              "      <th id=\"T_b6d42_level0_row8\" class=\"row_heading level0 row8\" >construction_year</th>\n",
              "      <td id=\"T_b6d42_row8_col0\" class=\"data row8 col0\" >0.000000</td>\n",
              "    </tr>\n",
              "    <tr>\n",
              "      <th id=\"T_b6d42_level0_row9\" class=\"row_heading level0 row9\" >level</th>\n",
              "      <td id=\"T_b6d42_row9_col0\" class=\"data row9 col0\" >0.000000</td>\n",
              "    </tr>\n",
              "    <tr>\n",
              "      <th id=\"T_b6d42_level0_row10\" class=\"row_heading level0 row10\" >price_per_area</th>\n",
              "      <td id=\"T_b6d42_row10_col0\" class=\"data row10 col0\" >0.000000</td>\n",
              "    </tr>\n",
              "  </tbody>\n",
              "</table>\n"
            ]
          },
          "metadata": {}
        }
      ],
      "source": [
        "berlin_dataframe_info(df)"
      ],
      "id": "POwKJLnyAZSk"
    },
    {
      "cell_type": "code",
      "source": [
        "# Определим количества уникальных значений для каждого столбца\n",
        "dict_count = {}\n",
        "for i in list(df.columns):\n",
        "  dict_count[i] = df[i].value_counts().shape[0]\n",
        "\n",
        "pd.DataFrame(dict_count, index=['count']).transpose()"
      ],
      "metadata": {
        "colab": {
          "base_uri": "https://localhost:8080/",
          "height": 394
        },
        "id": "Ikxi68iyQhwM",
        "outputId": "33d5816f-3f51-416a-f02c-453c8e95368c"
      },
      "id": "Ikxi68iyQhwM",
      "execution_count": 6,
      "outputs": [
        {
          "output_type": "execute_result",
          "data": {
            "text/plain": [
              "                   count\n",
              "url                 4942\n",
              "energy                20\n",
              "heating               23\n",
              "price               1430\n",
              "area                2119\n",
              "rooms                 21\n",
              "fee                   68\n",
              "zipcode              190\n",
              "construction_year    155\n",
              "level                 20\n",
              "price_per_area      3601"
            ],
            "text/html": [
              "\n",
              "  <div id=\"df-b7957d39-2af8-4b80-bfec-55380bb602be\" class=\"colab-df-container\">\n",
              "    <div>\n",
              "<style scoped>\n",
              "    .dataframe tbody tr th:only-of-type {\n",
              "        vertical-align: middle;\n",
              "    }\n",
              "\n",
              "    .dataframe tbody tr th {\n",
              "        vertical-align: top;\n",
              "    }\n",
              "\n",
              "    .dataframe thead th {\n",
              "        text-align: right;\n",
              "    }\n",
              "</style>\n",
              "<table border=\"1\" class=\"dataframe\">\n",
              "  <thead>\n",
              "    <tr style=\"text-align: right;\">\n",
              "      <th></th>\n",
              "      <th>count</th>\n",
              "    </tr>\n",
              "  </thead>\n",
              "  <tbody>\n",
              "    <tr>\n",
              "      <th>url</th>\n",
              "      <td>4942</td>\n",
              "    </tr>\n",
              "    <tr>\n",
              "      <th>energy</th>\n",
              "      <td>20</td>\n",
              "    </tr>\n",
              "    <tr>\n",
              "      <th>heating</th>\n",
              "      <td>23</td>\n",
              "    </tr>\n",
              "    <tr>\n",
              "      <th>price</th>\n",
              "      <td>1430</td>\n",
              "    </tr>\n",
              "    <tr>\n",
              "      <th>area</th>\n",
              "      <td>2119</td>\n",
              "    </tr>\n",
              "    <tr>\n",
              "      <th>rooms</th>\n",
              "      <td>21</td>\n",
              "    </tr>\n",
              "    <tr>\n",
              "      <th>fee</th>\n",
              "      <td>68</td>\n",
              "    </tr>\n",
              "    <tr>\n",
              "      <th>zipcode</th>\n",
              "      <td>190</td>\n",
              "    </tr>\n",
              "    <tr>\n",
              "      <th>construction_year</th>\n",
              "      <td>155</td>\n",
              "    </tr>\n",
              "    <tr>\n",
              "      <th>level</th>\n",
              "      <td>20</td>\n",
              "    </tr>\n",
              "    <tr>\n",
              "      <th>price_per_area</th>\n",
              "      <td>3601</td>\n",
              "    </tr>\n",
              "  </tbody>\n",
              "</table>\n",
              "</div>\n",
              "    <div class=\"colab-df-buttons\">\n",
              "\n",
              "  <div class=\"colab-df-container\">\n",
              "    <button class=\"colab-df-convert\" onclick=\"convertToInteractive('df-b7957d39-2af8-4b80-bfec-55380bb602be')\"\n",
              "            title=\"Convert this dataframe to an interactive table.\"\n",
              "            style=\"display:none;\">\n",
              "\n",
              "  <svg xmlns=\"http://www.w3.org/2000/svg\" height=\"24px\" viewBox=\"0 -960 960 960\">\n",
              "    <path d=\"M120-120v-720h720v720H120Zm60-500h600v-160H180v160Zm220 220h160v-160H400v160Zm0 220h160v-160H400v160ZM180-400h160v-160H180v160Zm440 0h160v-160H620v160ZM180-180h160v-160H180v160Zm440 0h160v-160H620v160Z\"/>\n",
              "  </svg>\n",
              "    </button>\n",
              "\n",
              "  <style>\n",
              "    .colab-df-container {\n",
              "      display:flex;\n",
              "      gap: 12px;\n",
              "    }\n",
              "\n",
              "    .colab-df-convert {\n",
              "      background-color: #E8F0FE;\n",
              "      border: none;\n",
              "      border-radius: 50%;\n",
              "      cursor: pointer;\n",
              "      display: none;\n",
              "      fill: #1967D2;\n",
              "      height: 32px;\n",
              "      padding: 0 0 0 0;\n",
              "      width: 32px;\n",
              "    }\n",
              "\n",
              "    .colab-df-convert:hover {\n",
              "      background-color: #E2EBFA;\n",
              "      box-shadow: 0px 1px 2px rgba(60, 64, 67, 0.3), 0px 1px 3px 1px rgba(60, 64, 67, 0.15);\n",
              "      fill: #174EA6;\n",
              "    }\n",
              "\n",
              "    .colab-df-buttons div {\n",
              "      margin-bottom: 4px;\n",
              "    }\n",
              "\n",
              "    [theme=dark] .colab-df-convert {\n",
              "      background-color: #3B4455;\n",
              "      fill: #D2E3FC;\n",
              "    }\n",
              "\n",
              "    [theme=dark] .colab-df-convert:hover {\n",
              "      background-color: #434B5C;\n",
              "      box-shadow: 0px 1px 3px 1px rgba(0, 0, 0, 0.15);\n",
              "      filter: drop-shadow(0px 1px 2px rgba(0, 0, 0, 0.3));\n",
              "      fill: #FFFFFF;\n",
              "    }\n",
              "  </style>\n",
              "\n",
              "    <script>\n",
              "      const buttonEl =\n",
              "        document.querySelector('#df-b7957d39-2af8-4b80-bfec-55380bb602be button.colab-df-convert');\n",
              "      buttonEl.style.display =\n",
              "        google.colab.kernel.accessAllowed ? 'block' : 'none';\n",
              "\n",
              "      async function convertToInteractive(key) {\n",
              "        const element = document.querySelector('#df-b7957d39-2af8-4b80-bfec-55380bb602be');\n",
              "        const dataTable =\n",
              "          await google.colab.kernel.invokeFunction('convertToInteractive',\n",
              "                                                    [key], {});\n",
              "        if (!dataTable) return;\n",
              "\n",
              "        const docLinkHtml = 'Like what you see? Visit the ' +\n",
              "          '<a target=\"_blank\" href=https://colab.research.google.com/notebooks/data_table.ipynb>data table notebook</a>'\n",
              "          + ' to learn more about interactive tables.';\n",
              "        element.innerHTML = '';\n",
              "        dataTable['output_type'] = 'display_data';\n",
              "        await google.colab.output.renderOutput(dataTable, element);\n",
              "        const docLink = document.createElement('div');\n",
              "        docLink.innerHTML = docLinkHtml;\n",
              "        element.appendChild(docLink);\n",
              "      }\n",
              "    </script>\n",
              "  </div>\n",
              "\n",
              "\n",
              "<div id=\"df-5f176db1-2b4d-48b4-a91f-c554047d16a7\">\n",
              "  <button class=\"colab-df-quickchart\" onclick=\"quickchart('df-5f176db1-2b4d-48b4-a91f-c554047d16a7')\"\n",
              "            title=\"Suggest charts\"\n",
              "            style=\"display:none;\">\n",
              "\n",
              "<svg xmlns=\"http://www.w3.org/2000/svg\" height=\"24px\"viewBox=\"0 0 24 24\"\n",
              "     width=\"24px\">\n",
              "    <g>\n",
              "        <path d=\"M19 3H5c-1.1 0-2 .9-2 2v14c0 1.1.9 2 2 2h14c1.1 0 2-.9 2-2V5c0-1.1-.9-2-2-2zM9 17H7v-7h2v7zm4 0h-2V7h2v10zm4 0h-2v-4h2v4z\"/>\n",
              "    </g>\n",
              "</svg>\n",
              "  </button>\n",
              "\n",
              "<style>\n",
              "  .colab-df-quickchart {\n",
              "      --bg-color: #E8F0FE;\n",
              "      --fill-color: #1967D2;\n",
              "      --hover-bg-color: #E2EBFA;\n",
              "      --hover-fill-color: #174EA6;\n",
              "      --disabled-fill-color: #AAA;\n",
              "      --disabled-bg-color: #DDD;\n",
              "  }\n",
              "\n",
              "  [theme=dark] .colab-df-quickchart {\n",
              "      --bg-color: #3B4455;\n",
              "      --fill-color: #D2E3FC;\n",
              "      --hover-bg-color: #434B5C;\n",
              "      --hover-fill-color: #FFFFFF;\n",
              "      --disabled-bg-color: #3B4455;\n",
              "      --disabled-fill-color: #666;\n",
              "  }\n",
              "\n",
              "  .colab-df-quickchart {\n",
              "    background-color: var(--bg-color);\n",
              "    border: none;\n",
              "    border-radius: 50%;\n",
              "    cursor: pointer;\n",
              "    display: none;\n",
              "    fill: var(--fill-color);\n",
              "    height: 32px;\n",
              "    padding: 0;\n",
              "    width: 32px;\n",
              "  }\n",
              "\n",
              "  .colab-df-quickchart:hover {\n",
              "    background-color: var(--hover-bg-color);\n",
              "    box-shadow: 0 1px 2px rgba(60, 64, 67, 0.3), 0 1px 3px 1px rgba(60, 64, 67, 0.15);\n",
              "    fill: var(--button-hover-fill-color);\n",
              "  }\n",
              "\n",
              "  .colab-df-quickchart-complete:disabled,\n",
              "  .colab-df-quickchart-complete:disabled:hover {\n",
              "    background-color: var(--disabled-bg-color);\n",
              "    fill: var(--disabled-fill-color);\n",
              "    box-shadow: none;\n",
              "  }\n",
              "\n",
              "  .colab-df-spinner {\n",
              "    border: 2px solid var(--fill-color);\n",
              "    border-color: transparent;\n",
              "    border-bottom-color: var(--fill-color);\n",
              "    animation:\n",
              "      spin 1s steps(1) infinite;\n",
              "  }\n",
              "\n",
              "  @keyframes spin {\n",
              "    0% {\n",
              "      border-color: transparent;\n",
              "      border-bottom-color: var(--fill-color);\n",
              "      border-left-color: var(--fill-color);\n",
              "    }\n",
              "    20% {\n",
              "      border-color: transparent;\n",
              "      border-left-color: var(--fill-color);\n",
              "      border-top-color: var(--fill-color);\n",
              "    }\n",
              "    30% {\n",
              "      border-color: transparent;\n",
              "      border-left-color: var(--fill-color);\n",
              "      border-top-color: var(--fill-color);\n",
              "      border-right-color: var(--fill-color);\n",
              "    }\n",
              "    40% {\n",
              "      border-color: transparent;\n",
              "      border-right-color: var(--fill-color);\n",
              "      border-top-color: var(--fill-color);\n",
              "    }\n",
              "    60% {\n",
              "      border-color: transparent;\n",
              "      border-right-color: var(--fill-color);\n",
              "    }\n",
              "    80% {\n",
              "      border-color: transparent;\n",
              "      border-right-color: var(--fill-color);\n",
              "      border-bottom-color: var(--fill-color);\n",
              "    }\n",
              "    90% {\n",
              "      border-color: transparent;\n",
              "      border-bottom-color: var(--fill-color);\n",
              "    }\n",
              "  }\n",
              "</style>\n",
              "\n",
              "  <script>\n",
              "    async function quickchart(key) {\n",
              "      const quickchartButtonEl =\n",
              "        document.querySelector('#' + key + ' button');\n",
              "      quickchartButtonEl.disabled = true;  // To prevent multiple clicks.\n",
              "      quickchartButtonEl.classList.add('colab-df-spinner');\n",
              "      try {\n",
              "        const charts = await google.colab.kernel.invokeFunction(\n",
              "            'suggestCharts', [key], {});\n",
              "      } catch (error) {\n",
              "        console.error('Error during call to suggestCharts:', error);\n",
              "      }\n",
              "      quickchartButtonEl.classList.remove('colab-df-spinner');\n",
              "      quickchartButtonEl.classList.add('colab-df-quickchart-complete');\n",
              "    }\n",
              "    (() => {\n",
              "      let quickchartButtonEl =\n",
              "        document.querySelector('#df-5f176db1-2b4d-48b4-a91f-c554047d16a7 button');\n",
              "      quickchartButtonEl.style.display =\n",
              "        google.colab.kernel.accessAllowed ? 'block' : 'none';\n",
              "    })();\n",
              "  </script>\n",
              "</div>\n",
              "    </div>\n",
              "  </div>\n"
            ]
          },
          "metadata": {},
          "execution_count": 6
        }
      ]
    },
    {
      "cell_type": "markdown",
      "source": [
        "## 2.Предобработка данных"
      ],
      "metadata": {
        "id": "iyJ3-FhcQnj8"
      },
      "id": "iyJ3-FhcQnj8"
    },
    {
      "cell_type": "code",
      "source": [
        "df.hist(figsize=(12, 12), grid = False)"
      ],
      "metadata": {
        "colab": {
          "base_uri": "https://localhost:8080/",
          "height": 1000
        },
        "id": "X0fKi36_Qoe_",
        "outputId": "ee9de94d-0b6e-446e-843b-9275bc4cc726"
      },
      "id": "X0fKi36_Qoe_",
      "execution_count": 7,
      "outputs": [
        {
          "output_type": "execute_result",
          "data": {
            "text/plain": [
              "array([[<Axes: title={'center': 'price'}>,\n",
              "        <Axes: title={'center': 'area'}>,\n",
              "        <Axes: title={'center': 'rooms'}>],\n",
              "       [<Axes: title={'center': 'fee'}>,\n",
              "        <Axes: title={'center': 'zipcode'}>,\n",
              "        <Axes: title={'center': 'construction_year'}>],\n",
              "       [<Axes: title={'center': 'level'}>,\n",
              "        <Axes: title={'center': 'price_per_area'}>, <Axes: >]],\n",
              "      dtype=object)"
            ]
          },
          "metadata": {},
          "execution_count": 7
        },
        {
          "output_type": "display_data",
          "data": {
            "text/plain": [
              "<Figure size 1200x1200 with 9 Axes>"
            ],
            "image/png": "[encoded data removed]"
          },
          "metadata": {}
        }
      ]
    },
    {
      "cell_type": "markdown",
      "source": [
        "### 2.1 Проверка дубликатов"
      ],
      "metadata": {
        "id": "jYWI8wCqQuwL"
      },
      "id": "jYWI8wCqQuwL"
    },
    {
      "cell_type": "code",
      "source": [
        "# проверим на дубликаты\n",
        "print(f'Количество дубликатов в наборе данных - {df.duplicated().sum()}')"
      ],
      "metadata": {
        "colab": {
          "base_uri": "https://localhost:8080/"
        },
        "id": "vccxPG-ZQvfQ",
        "outputId": "3ee9cbe8-abec-4fd1-bfa2-1a2d5626a0b9"
      },
      "id": "vccxPG-ZQvfQ",
      "execution_count": 8,
      "outputs": [
        {
          "output_type": "stream",
          "name": "stdout",
          "text": [
            "Количество дубликатов в наборе данных - 0\n"
          ]
        }
      ]
    },
    {
      "cell_type": "markdown",
      "source": [
        "Посмотрим на названия и количество строк в колонках `Тип энергии` и `Система отопления`"
      ],
      "metadata": {
        "id": "B4ZYaMnBQ0Q4"
      },
      "id": "B4ZYaMnBQ0Q4"
    },
    {
      "cell_type": "code",
      "source": [
        "df['energy'].value_counts()"
      ],
      "metadata": {
        "colab": {
          "base_uri": "https://localhost:8080/"
        },
        "id": "hLEBphlxQ1A6",
        "outputId": "dfd90a64-6891-4468-c92e-ec7a5105fbc7"
      },
      "id": "hLEBphlxQ1A6",
      "execution_count": 9,
      "outputs": [
        {
          "output_type": "execute_result",
          "data": {
            "text/plain": [
              "na                           2112\n",
              "Gas                          1414\n",
              "Fernwärme                     829\n",
              "Öl                            413\n",
              "Luft-/                         34\n",
              "Fernwärme,                     28\n",
              "Elektro,                       24\n",
              "Fußbodenheizung,               24\n",
              "Elektro                        15\n",
              "Solar                          12\n",
              "Blockheizkraftwerk,            11\n",
              "Gas,                           10\n",
              "Erdwärme                        5\n",
              "Pellets                         3\n",
              "Flüssiggas                      2\n",
              "Blockheizkraftwerk              2\n",
              "Holz,                           1\n",
              "Niedrigenergiehaus              1\n",
              "Erdwärme,                       1\n",
              "Fußbodenheizung, offener        1\n",
              "Name: energy, dtype: int64"
            ]
          },
          "metadata": {},
          "execution_count": 9
        }
      ]
    },
    {
      "cell_type": "code",
      "source": [
        "df['heating'].value_counts()"
      ],
      "metadata": {
        "colab": {
          "base_uri": "https://localhost:8080/"
        },
        "id": "mHPVIBSaQ4V8",
        "outputId": "956aff5a-391c-470a-9c62-b1179b378966"
      },
      "id": "mHPVIBSaQ4V8",
      "execution_count": 10,
      "outputs": [
        {
          "output_type": "execute_result",
          "data": {
            "text/plain": [
              "na                           2112\n",
              "Zentralheizung               1839\n",
              "Etagenheizung                 366\n",
              "Fußbodenheizung,              206\n",
              "Fußbodenheizung               174\n",
              "Heizungsart                    70\n",
              "Kamin,                         34\n",
              "Wärmepumpe                     30\n",
              "Wasser-                        24\n",
              "Kf                             17\n",
              "Kamin                          15\n",
              "Niedrigenergiehaus             12\n",
              "Fußbodenheizung, offener       11\n",
              "Etagenheizung, offener          8\n",
              "Etagenheizung,                  6\n",
              "Heizungsartoffener              4\n",
              "Luft-/                          3\n",
              "Wärmepumpe,                     3\n",
              "Fertighaus                      3\n",
              "Minergie zertifiziert           2\n",
              "Ofen,                           1\n",
              "Wärmepumpe, offener             1\n",
              "Kohle,                          1\n",
              "Name: heating, dtype: int64"
            ]
          },
          "metadata": {},
          "execution_count": 10
        }
      ]
    }
  ],
  "metadata": {
    "ExecuteTimeLog": [
      {
        "duration": 1671,
        "start_time": "2022-05-08T13:43:51.690Z"
      },
      {
        "duration": 919,
        "start_time": "2022-05-08T13:43:53.364Z"
      },
      {
        "duration": 4,
        "start_time": "2022-05-08T13:43:54.286Z"
      },
      {
        "duration": 62,
        "start_time": "2022-05-08T13:43:54.293Z"
      },
      {
        "duration": 75,
        "start_time": "2022-05-08T13:43:54.357Z"
      },
      {
        "duration": 72,
        "start_time": "2022-05-08T13:43:54.434Z"
      },
      {
        "duration": 60,
        "start_time": "2022-05-08T13:43:54.508Z"
      },
      {
        "duration": 65,
        "start_time": "2022-05-08T13:43:54.569Z"
      },
      {
        "duration": 15,
        "start_time": "2022-05-08T13:43:54.636Z"
      },
      {
        "duration": 7,
        "start_time": "2022-05-08T13:43:54.655Z"
      },
      {
        "duration": 41,
        "start_time": "2022-05-08T13:43:54.664Z"
      },
      {
        "duration": 9,
        "start_time": "2022-05-08T13:43:54.706Z"
      },
      {
        "duration": 15,
        "start_time": "2022-05-08T13:43:54.717Z"
      },
      {
        "duration": 31,
        "start_time": "2022-05-08T13:43:54.734Z"
      },
      {
        "duration": 18,
        "start_time": "2022-05-08T13:43:54.766Z"
      },
      {
        "duration": 29,
        "start_time": "2022-05-08T13:43:54.785Z"
      },
      {
        "duration": 12,
        "start_time": "2022-05-08T13:43:54.816Z"
      },
      {
        "duration": 6,
        "start_time": "2022-05-08T13:43:54.830Z"
      },
      {
        "duration": 11,
        "start_time": "2022-05-08T13:43:54.837Z"
      },
      {
        "duration": 10,
        "start_time": "2022-05-08T13:43:54.850Z"
      },
      {
        "duration": 8,
        "start_time": "2022-05-08T13:43:54.862Z"
      },
      {
        "duration": 17,
        "start_time": "2022-05-08T13:43:54.897Z"
      },
      {
        "duration": 7,
        "start_time": "2022-05-08T13:43:54.916Z"
      },
      {
        "duration": 6,
        "start_time": "2022-05-08T13:43:54.925Z"
      },
      {
        "duration": 19,
        "start_time": "2022-05-08T13:43:54.933Z"
      },
      {
        "duration": 339,
        "start_time": "2022-05-08T13:43:54.953Z"
      },
      {
        "duration": 8,
        "start_time": "2022-05-08T13:43:55.302Z"
      },
      {
        "duration": 32,
        "start_time": "2022-05-08T13:43:55.315Z"
      },
      {
        "duration": 67,
        "start_time": "2022-05-08T13:43:55.349Z"
      },
      {
        "duration": 7,
        "start_time": "2022-05-08T13:43:55.419Z"
      },
      {
        "duration": 19,
        "start_time": "2022-05-08T13:43:55.428Z"
      },
      {
        "duration": 19,
        "start_time": "2022-05-08T13:43:55.449Z"
      },
      {
        "duration": 15,
        "start_time": "2022-05-08T13:43:55.497Z"
      },
      {
        "duration": 24,
        "start_time": "2022-05-08T13:43:55.514Z"
      },
      {
        "duration": 22,
        "start_time": "2022-05-08T13:43:55.539Z"
      },
      {
        "duration": 35,
        "start_time": "2022-05-08T13:43:55.563Z"
      },
      {
        "duration": 16,
        "start_time": "2022-05-08T13:43:55.601Z"
      },
      {
        "duration": 55,
        "start_time": "2022-05-08T13:43:55.618Z"
      },
      {
        "duration": 167,
        "start_time": "2022-05-08T13:43:55.675Z"
      },
      {
        "duration": 6,
        "start_time": "2022-05-08T13:43:55.843Z"
      },
      {
        "duration": 31,
        "start_time": "2022-05-08T13:43:55.850Z"
      },
      {
        "duration": 54,
        "start_time": "2022-05-08T13:43:55.883Z"
      },
      {
        "duration": 6,
        "start_time": "2022-05-08T13:43:55.938Z"
      },
      {
        "duration": 8,
        "start_time": "2022-05-08T13:43:55.945Z"
      },
      {
        "duration": 13,
        "start_time": "2022-05-08T13:43:55.955Z"
      },
      {
        "duration": 62,
        "start_time": "2022-05-08T13:43:55.970Z"
      },
      {
        "duration": 86,
        "start_time": "2022-05-08T13:43:56.034Z"
      },
      {
        "duration": 8,
        "start_time": "2022-05-08T13:43:56.121Z"
      },
      {
        "duration": 13,
        "start_time": "2022-05-08T13:43:56.131Z"
      },
      {
        "duration": 150,
        "start_time": "2022-05-08T13:43:56.146Z"
      },
      {
        "duration": 11,
        "start_time": "2022-05-08T13:43:56.298Z"
      },
      {
        "duration": 13,
        "start_time": "2022-05-08T13:43:56.312Z"
      },
      {
        "duration": 16,
        "start_time": "2022-05-08T13:43:56.326Z"
      },
      {
        "duration": 9,
        "start_time": "2022-05-08T13:43:56.344Z"
      },
      {
        "duration": 59,
        "start_time": "2022-05-08T13:43:56.355Z"
      },
      {
        "duration": 36,
        "start_time": "2022-05-08T13:43:56.416Z"
      },
      {
        "duration": 6,
        "start_time": "2022-05-08T13:43:56.454Z"
      },
      {
        "duration": 71,
        "start_time": "2022-05-08T13:43:56.462Z"
      },
      {
        "duration": 8,
        "start_time": "2022-05-08T13:43:56.534Z"
      },
      {
        "duration": 8,
        "start_time": "2022-05-08T13:43:56.544Z"
      },
      {
        "duration": 100,
        "start_time": "2022-05-08T13:43:56.554Z"
      },
      {
        "duration": 53,
        "start_time": "2022-05-08T13:43:56.656Z"
      },
      {
        "duration": 25,
        "start_time": "2022-05-08T13:43:56.712Z"
      },
      {
        "duration": 19,
        "start_time": "2022-05-08T13:43:56.738Z"
      },
      {
        "duration": 64,
        "start_time": "2022-05-08T13:43:56.758Z"
      },
      {
        "duration": 5,
        "start_time": "2022-05-08T13:43:56.825Z"
      },
      {
        "duration": 8,
        "start_time": "2022-05-08T13:43:56.833Z"
      },
      {
        "duration": 10,
        "start_time": "2022-05-08T13:43:56.843Z"
      },
      {
        "duration": 43,
        "start_time": "2022-05-08T13:43:56.855Z"
      },
      {
        "duration": 9,
        "start_time": "2022-05-08T13:43:56.900Z"
      },
      {
        "duration": 41,
        "start_time": "2022-05-08T13:43:56.911Z"
      },
      {
        "duration": 45,
        "start_time": "2022-05-08T13:43:56.954Z"
      },
      {
        "duration": 12,
        "start_time": "2022-05-08T13:43:57.001Z"
      },
      {
        "duration": 8,
        "start_time": "2022-05-08T13:43:57.015Z"
      },
      {
        "duration": 283,
        "start_time": "2022-05-08T13:43:57.025Z"
      },
      {
        "duration": 38,
        "start_time": "2022-05-08T13:43:57.310Z"
      },
      {
        "duration": 28,
        "start_time": "2022-05-08T13:43:57.350Z"
      },
      {
        "duration": 11,
        "start_time": "2022-05-08T13:43:57.398Z"
      },
      {
        "duration": 1301,
        "start_time": "2022-05-08T13:43:57.411Z"
      },
      {
        "duration": 8,
        "start_time": "2022-05-08T13:43:58.714Z"
      },
      {
        "duration": 25,
        "start_time": "2022-05-08T13:43:58.724Z"
      },
      {
        "duration": 23,
        "start_time": "2022-05-08T13:43:58.808Z"
      },
      {
        "duration": 81,
        "start_time": "2022-05-08T13:43:58.833Z"
      },
      {
        "duration": 4,
        "start_time": "2022-05-08T13:43:58.915Z"
      },
      {
        "duration": 979,
        "start_time": "2022-05-08T13:43:58.921Z"
      },
      {
        "duration": 472,
        "start_time": "2022-05-08T13:43:59.906Z"
      },
      {
        "duration": 15,
        "start_time": "2022-05-08T13:44:00.380Z"
      },
      {
        "duration": 22,
        "start_time": "2022-05-08T13:44:00.400Z"
      },
      {
        "duration": 2222,
        "start_time": "2022-05-08T13:44:00.424Z"
      },
      {
        "duration": 71,
        "start_time": "2022-05-08T13:44:02.648Z"
      },
      {
        "duration": 12,
        "start_time": "2022-05-08T13:44:02.721Z"
      },
      {
        "duration": 14,
        "start_time": "2022-05-08T13:44:02.735Z"
      },
      {
        "duration": 79,
        "start_time": "2022-05-08T13:44:02.751Z"
      },
      {
        "duration": 1307,
        "start_time": "2022-05-08T13:44:02.832Z"
      },
      {
        "duration": 11,
        "start_time": "2022-05-08T13:44:04.140Z"
      },
      {
        "duration": 11,
        "start_time": "2022-05-08T13:44:04.153Z"
      },
      {
        "duration": 36,
        "start_time": "2022-05-08T13:44:04.166Z"
      },
      {
        "duration": 10,
        "start_time": "2022-05-08T13:44:04.218Z"
      },
      {
        "duration": 16,
        "start_time": "2022-05-08T13:44:04.230Z"
      },
      {
        "duration": 36,
        "start_time": "2022-05-08T13:53:51.009Z"
      },
      {
        "duration": 122,
        "start_time": "2022-05-08T13:54:00.460Z"
      },
      {
        "duration": 127,
        "start_time": "2022-05-08T13:54:48.500Z"
      },
      {
        "duration": 264,
        "start_time": "2022-05-08T13:55:28.866Z"
      },
      {
        "duration": 5,
        "start_time": "2022-05-08T13:55:35.375Z"
      },
      {
        "duration": 5,
        "start_time": "2022-05-08T13:55:55.425Z"
      },
      {
        "duration": 16,
        "start_time": "2022-05-08T13:56:06.259Z"
      },
      {
        "duration": 24,
        "start_time": "2022-05-08T13:57:03.362Z"
      },
      {
        "duration": 7,
        "start_time": "2022-05-08T13:57:55.724Z"
      },
      {
        "duration": 7,
        "start_time": "2022-05-08T14:00:44.603Z"
      },
      {
        "duration": 253,
        "start_time": "2022-05-08T14:00:47.394Z"
      },
      {
        "duration": 4,
        "start_time": "2022-05-08T14:00:50.898Z"
      },
      {
        "duration": 7,
        "start_time": "2022-05-08T14:00:58.530Z"
      },
      {
        "duration": 7,
        "start_time": "2022-05-08T14:02:04.900Z"
      },
      {
        "duration": 1185,
        "start_time": "2022-05-08T14:02:47.371Z"
      },
      {
        "duration": 382,
        "start_time": "2022-05-08T14:02:48.558Z"
      },
      {
        "duration": 4,
        "start_time": "2022-05-08T14:02:48.941Z"
      },
      {
        "duration": 45,
        "start_time": "2022-05-08T14:02:48.947Z"
      },
      {
        "duration": 100,
        "start_time": "2022-05-08T14:02:48.995Z"
      },
      {
        "duration": 58,
        "start_time": "2022-05-08T14:02:49.097Z"
      },
      {
        "duration": 116,
        "start_time": "2022-05-08T14:02:49.157Z"
      },
      {
        "duration": 54,
        "start_time": "2022-05-08T14:02:49.275Z"
      },
      {
        "duration": 13,
        "start_time": "2022-05-08T14:02:49.330Z"
      },
      {
        "duration": 7,
        "start_time": "2022-05-08T14:02:49.347Z"
      },
      {
        "duration": 39,
        "start_time": "2022-05-08T14:02:49.355Z"
      },
      {
        "duration": 11,
        "start_time": "2022-05-08T14:02:49.396Z"
      },
      {
        "duration": 15,
        "start_time": "2022-05-08T14:02:49.409Z"
      },
      {
        "duration": 9,
        "start_time": "2022-05-08T14:02:49.426Z"
      },
      {
        "duration": 16,
        "start_time": "2022-05-08T14:02:49.437Z"
      },
      {
        "duration": 17,
        "start_time": "2022-05-08T14:02:49.455Z"
      },
      {
        "duration": 17,
        "start_time": "2022-05-08T14:02:49.493Z"
      },
      {
        "duration": 7,
        "start_time": "2022-05-08T14:02:49.512Z"
      },
      {
        "duration": 29,
        "start_time": "2022-05-08T14:02:49.521Z"
      },
      {
        "duration": 11,
        "start_time": "2022-05-08T14:02:49.552Z"
      },
      {
        "duration": 11,
        "start_time": "2022-05-08T14:02:49.565Z"
      },
      {
        "duration": 20,
        "start_time": "2022-05-08T14:02:49.578Z"
      },
      {
        "duration": 11,
        "start_time": "2022-05-08T14:02:49.600Z"
      },
      {
        "duration": 13,
        "start_time": "2022-05-08T14:02:49.613Z"
      },
      {
        "duration": 15,
        "start_time": "2022-05-08T14:02:49.628Z"
      },
      {
        "duration": 283,
        "start_time": "2022-05-08T14:02:49.644Z"
      },
      {
        "duration": 6,
        "start_time": "2022-05-08T14:02:49.929Z"
      },
      {
        "duration": 54,
        "start_time": "2022-05-08T14:02:49.940Z"
      },
      {
        "duration": 47,
        "start_time": "2022-05-08T14:02:49.995Z"
      },
      {
        "duration": 6,
        "start_time": "2022-05-08T14:02:50.044Z"
      },
      {
        "duration": 43,
        "start_time": "2022-05-08T14:02:50.051Z"
      },
      {
        "duration": 19,
        "start_time": "2022-05-08T14:02:50.096Z"
      },
      {
        "duration": 11,
        "start_time": "2022-05-08T14:02:50.118Z"
      },
      {
        "duration": 23,
        "start_time": "2022-05-08T14:02:50.131Z"
      },
      {
        "duration": 23,
        "start_time": "2022-05-08T14:02:50.193Z"
      },
      {
        "duration": 8,
        "start_time": "2022-05-08T14:02:50.218Z"
      },
      {
        "duration": 13,
        "start_time": "2022-05-08T14:02:50.228Z"
      },
      {
        "duration": 71,
        "start_time": "2022-05-08T14:02:50.243Z"
      },
      {
        "duration": 126,
        "start_time": "2022-05-08T14:02:50.316Z"
      },
      {
        "duration": 6,
        "start_time": "2022-05-08T14:02:50.444Z"
      },
      {
        "duration": 23,
        "start_time": "2022-05-08T14:02:50.452Z"
      },
      {
        "duration": 30,
        "start_time": "2022-05-08T14:02:50.493Z"
      },
      {
        "duration": 7,
        "start_time": "2022-05-08T14:02:50.525Z"
      },
      {
        "duration": 5,
        "start_time": "2022-05-08T14:02:50.533Z"
      },
      {
        "duration": 28,
        "start_time": "2022-05-08T14:02:50.540Z"
      },
      {
        "duration": 38,
        "start_time": "2022-05-08T14:02:50.594Z"
      },
      {
        "duration": 129,
        "start_time": "2022-05-08T14:02:50.634Z"
      },
      {
        "duration": 11,
        "start_time": "2022-05-08T14:02:50.764Z"
      },
      {
        "duration": 30,
        "start_time": "2022-05-08T14:02:50.777Z"
      },
      {
        "duration": 149,
        "start_time": "2022-05-08T14:02:50.809Z"
      },
      {
        "duration": 6,
        "start_time": "2022-05-08T14:02:50.960Z"
      },
      {
        "duration": 26,
        "start_time": "2022-05-08T14:02:50.967Z"
      },
      {
        "duration": 17,
        "start_time": "2022-05-08T14:02:50.995Z"
      },
      {
        "duration": 9,
        "start_time": "2022-05-08T14:02:51.014Z"
      },
      {
        "duration": 24,
        "start_time": "2022-05-08T14:02:51.024Z"
      },
      {
        "duration": 49,
        "start_time": "2022-05-08T14:02:51.050Z"
      },
      {
        "duration": 5,
        "start_time": "2022-05-08T14:02:51.101Z"
      },
      {
        "duration": 39,
        "start_time": "2022-05-08T14:02:51.108Z"
      },
      {
        "duration": 7,
        "start_time": "2022-05-08T14:02:51.149Z"
      },
      {
        "duration": 9,
        "start_time": "2022-05-08T14:02:51.157Z"
      },
      {
        "duration": 71,
        "start_time": "2022-05-08T14:02:51.193Z"
      },
      {
        "duration": 50,
        "start_time": "2022-05-08T14:02:51.266Z"
      },
      {
        "duration": 25,
        "start_time": "2022-05-08T14:02:51.318Z"
      },
      {
        "duration": 19,
        "start_time": "2022-05-08T14:02:51.345Z"
      },
      {
        "duration": 59,
        "start_time": "2022-05-08T14:02:51.366Z"
      },
      {
        "duration": 5,
        "start_time": "2022-05-08T14:02:51.426Z"
      },
      {
        "duration": 14,
        "start_time": "2022-05-08T14:02:51.433Z"
      },
      {
        "duration": 23,
        "start_time": "2022-05-08T14:02:51.449Z"
      },
      {
        "duration": 37,
        "start_time": "2022-05-08T14:02:51.474Z"
      },
      {
        "duration": 19,
        "start_time": "2022-05-08T14:02:51.513Z"
      },
      {
        "duration": 79,
        "start_time": "2022-05-08T14:02:51.534Z"
      },
      {
        "duration": 16,
        "start_time": "2022-05-08T14:02:51.615Z"
      },
      {
        "duration": 9,
        "start_time": "2022-05-08T14:02:51.632Z"
      },
      {
        "duration": 20,
        "start_time": "2022-05-08T14:02:51.642Z"
      },
      {
        "duration": 259,
        "start_time": "2022-05-08T14:02:51.664Z"
      },
      {
        "duration": 4,
        "start_time": "2022-05-08T14:02:51.925Z"
      },
      {
        "duration": 11,
        "start_time": "2022-05-08T14:02:51.931Z"
      },
      {
        "duration": 53,
        "start_time": "2022-05-08T14:02:51.944Z"
      },
      {
        "duration": 29,
        "start_time": "2022-05-08T14:02:51.999Z"
      },
      {
        "duration": 5,
        "start_time": "2022-05-08T14:02:52.029Z"
      },
      {
        "duration": 780,
        "start_time": "2022-05-08T14:02:52.035Z"
      },
      {
        "duration": 5,
        "start_time": "2022-05-08T14:02:52.821Z"
      },
      {
        "duration": 33,
        "start_time": "2022-05-08T14:02:52.828Z"
      },
      {
        "duration": 34,
        "start_time": "2022-05-08T14:02:52.862Z"
      },
      {
        "duration": 38,
        "start_time": "2022-05-08T14:02:52.899Z"
      },
      {
        "duration": 5,
        "start_time": "2022-05-08T14:02:52.939Z"
      },
      {
        "duration": 401,
        "start_time": "2022-05-08T14:02:52.946Z"
      },
      {
        "duration": 656,
        "start_time": "2022-05-08T14:02:53.349Z"
      },
      {
        "duration": 9,
        "start_time": "2022-05-08T14:02:54.006Z"
      },
      {
        "duration": 27,
        "start_time": "2022-05-08T14:02:54.017Z"
      },
      {
        "duration": 3912,
        "start_time": "2022-05-08T14:02:54.093Z"
      },
      {
        "duration": 108,
        "start_time": "2022-05-08T14:02:58.007Z"
      },
      {
        "duration": 10,
        "start_time": "2022-05-08T14:02:58.117Z"
      },
      {
        "duration": 65,
        "start_time": "2022-05-08T14:02:58.128Z"
      },
      {
        "duration": 41,
        "start_time": "2022-05-08T14:02:58.194Z"
      },
      {
        "duration": 2035,
        "start_time": "2022-05-08T14:02:58.293Z"
      },
      {
        "duration": 11,
        "start_time": "2022-05-08T14:03:00.330Z"
      },
      {
        "duration": 10,
        "start_time": "2022-05-08T14:03:00.393Z"
      },
      {
        "duration": 16,
        "start_time": "2022-05-08T14:03:00.405Z"
      },
      {
        "duration": 32,
        "start_time": "2022-05-08T14:03:00.422Z"
      },
      {
        "duration": 21,
        "start_time": "2022-05-08T14:03:00.492Z"
      },
      {
        "duration": 1251,
        "start_time": "2022-05-08T14:03:55.171Z"
      },
      {
        "duration": 387,
        "start_time": "2022-05-08T14:03:56.424Z"
      },
      {
        "duration": 3,
        "start_time": "2022-05-08T14:03:56.813Z"
      },
      {
        "duration": 45,
        "start_time": "2022-05-08T14:03:56.818Z"
      },
      {
        "duration": 71,
        "start_time": "2022-05-08T14:03:56.865Z"
      },
      {
        "duration": 62,
        "start_time": "2022-05-08T14:03:56.937Z"
      },
      {
        "duration": 59,
        "start_time": "2022-05-08T14:03:57.002Z"
      },
      {
        "duration": 79,
        "start_time": "2022-05-08T14:03:57.063Z"
      },
      {
        "duration": 17,
        "start_time": "2022-05-08T14:03:57.144Z"
      },
      {
        "duration": 30,
        "start_time": "2022-05-08T14:03:57.163Z"
      },
      {
        "duration": 7,
        "start_time": "2022-05-08T14:03:57.195Z"
      },
      {
        "duration": 10,
        "start_time": "2022-05-08T14:03:57.203Z"
      },
      {
        "duration": 10,
        "start_time": "2022-05-08T14:03:57.214Z"
      },
      {
        "duration": 5,
        "start_time": "2022-05-08T14:03:57.228Z"
      },
      {
        "duration": 10,
        "start_time": "2022-05-08T14:03:57.235Z"
      },
      {
        "duration": 12,
        "start_time": "2022-05-08T14:03:57.246Z"
      },
      {
        "duration": 46,
        "start_time": "2022-05-08T14:03:57.259Z"
      },
      {
        "duration": 6,
        "start_time": "2022-05-08T14:03:57.307Z"
      },
      {
        "duration": 8,
        "start_time": "2022-05-08T14:03:57.315Z"
      },
      {
        "duration": 11,
        "start_time": "2022-05-08T14:03:57.325Z"
      },
      {
        "duration": 11,
        "start_time": "2022-05-08T14:03:57.338Z"
      },
      {
        "duration": 15,
        "start_time": "2022-05-08T14:03:57.351Z"
      },
      {
        "duration": 8,
        "start_time": "2022-05-08T14:03:57.392Z"
      },
      {
        "duration": 11,
        "start_time": "2022-05-08T14:03:57.402Z"
      },
      {
        "duration": 15,
        "start_time": "2022-05-08T14:03:57.415Z"
      },
      {
        "duration": 267,
        "start_time": "2022-05-08T14:03:57.432Z"
      },
      {
        "duration": 5,
        "start_time": "2022-05-08T14:03:57.701Z"
      },
      {
        "duration": 36,
        "start_time": "2022-05-08T14:03:57.708Z"
      },
      {
        "duration": 61,
        "start_time": "2022-05-08T14:03:57.745Z"
      },
      {
        "duration": 6,
        "start_time": "2022-05-08T14:03:57.807Z"
      },
      {
        "duration": 19,
        "start_time": "2022-05-08T14:03:57.815Z"
      },
      {
        "duration": 18,
        "start_time": "2022-05-08T14:03:57.835Z"
      },
      {
        "duration": 39,
        "start_time": "2022-05-08T14:03:57.855Z"
      },
      {
        "duration": 25,
        "start_time": "2022-05-08T14:03:57.896Z"
      },
      {
        "duration": 23,
        "start_time": "2022-05-08T14:03:57.923Z"
      },
      {
        "duration": 8,
        "start_time": "2022-05-08T14:03:57.947Z"
      },
      {
        "duration": 42,
        "start_time": "2022-05-08T14:03:57.956Z"
      },
      {
        "duration": 55,
        "start_time": "2022-05-08T14:03:58.000Z"
      },
      {
        "duration": 142,
        "start_time": "2022-05-08T14:03:58.056Z"
      },
      {
        "duration": 5,
        "start_time": "2022-05-08T14:03:58.200Z"
      },
      {
        "duration": 18,
        "start_time": "2022-05-08T14:03:58.211Z"
      },
      {
        "duration": 29,
        "start_time": "2022-05-08T14:03:58.231Z"
      },
      {
        "duration": 6,
        "start_time": "2022-05-08T14:03:58.262Z"
      },
      {
        "duration": 5,
        "start_time": "2022-05-08T14:03:58.293Z"
      },
      {
        "duration": 15,
        "start_time": "2022-05-08T14:03:58.300Z"
      },
      {
        "duration": 31,
        "start_time": "2022-05-08T14:03:58.317Z"
      },
      {
        "duration": 96,
        "start_time": "2022-05-08T14:03:58.350Z"
      },
      {
        "duration": 8,
        "start_time": "2022-05-08T14:03:58.447Z"
      },
      {
        "duration": 13,
        "start_time": "2022-05-08T14:03:58.457Z"
      },
      {
        "duration": 151,
        "start_time": "2022-05-08T14:03:58.471Z"
      },
      {
        "duration": 5,
        "start_time": "2022-05-08T14:03:58.623Z"
      },
      {
        "duration": 17,
        "start_time": "2022-05-08T14:03:58.629Z"
      },
      {
        "duration": 16,
        "start_time": "2022-05-08T14:03:58.648Z"
      },
      {
        "duration": 9,
        "start_time": "2022-05-08T14:03:58.693Z"
      },
      {
        "duration": 19,
        "start_time": "2022-05-08T14:03:58.703Z"
      },
      {
        "duration": 36,
        "start_time": "2022-05-08T14:03:58.724Z"
      },
      {
        "duration": 36,
        "start_time": "2022-05-08T14:03:58.762Z"
      },
      {
        "duration": 52,
        "start_time": "2022-05-08T14:03:58.800Z"
      },
      {
        "duration": 8,
        "start_time": "2022-05-08T14:03:58.854Z"
      },
      {
        "duration": 31,
        "start_time": "2022-05-08T14:03:58.865Z"
      },
      {
        "duration": 111,
        "start_time": "2022-05-08T14:03:58.899Z"
      },
      {
        "duration": 45,
        "start_time": "2022-05-08T14:03:59.012Z"
      },
      {
        "duration": 66,
        "start_time": "2022-05-08T14:03:59.059Z"
      },
      {
        "duration": 79,
        "start_time": "2022-05-08T14:03:59.127Z"
      },
      {
        "duration": 94,
        "start_time": "2022-05-08T14:03:59.208Z"
      },
      {
        "duration": 4,
        "start_time": "2022-05-08T14:03:59.304Z"
      },
      {
        "duration": 11,
        "start_time": "2022-05-08T14:03:59.310Z"
      },
      {
        "duration": 8,
        "start_time": "2022-05-08T14:03:59.323Z"
      },
      {
        "duration": 62,
        "start_time": "2022-05-08T14:03:59.333Z"
      },
      {
        "duration": 7,
        "start_time": "2022-05-08T14:03:59.397Z"
      },
      {
        "duration": 96,
        "start_time": "2022-05-08T14:03:59.406Z"
      },
      {
        "duration": 16,
        "start_time": "2022-05-08T14:03:59.503Z"
      },
      {
        "duration": 7,
        "start_time": "2022-05-08T14:03:59.521Z"
      },
      {
        "duration": 63,
        "start_time": "2022-05-08T14:03:59.530Z"
      },
      {
        "duration": 440,
        "start_time": "2022-05-08T14:03:59.595Z"
      },
      {
        "duration": 5,
        "start_time": "2022-05-08T14:04:00.093Z"
      },
      {
        "duration": 15,
        "start_time": "2022-05-08T14:04:00.100Z"
      },
      {
        "duration": 103,
        "start_time": "2022-05-08T14:04:00.116Z"
      },
      {
        "duration": 97,
        "start_time": "2022-05-08T14:04:00.221Z"
      },
      {
        "duration": 6,
        "start_time": "2022-05-08T14:04:00.320Z"
      },
      {
        "duration": 2479,
        "start_time": "2022-05-08T14:04:00.329Z"
      },
      {
        "duration": 7,
        "start_time": "2022-05-08T14:04:02.810Z"
      },
      {
        "duration": 85,
        "start_time": "2022-05-08T14:04:02.819Z"
      },
      {
        "duration": 35,
        "start_time": "2022-05-08T14:04:02.906Z"
      },
      {
        "duration": 67,
        "start_time": "2022-05-08T14:04:02.943Z"
      },
      {
        "duration": 4,
        "start_time": "2022-05-08T14:04:03.012Z"
      },
      {
        "duration": 699,
        "start_time": "2022-05-08T14:04:03.017Z"
      },
      {
        "duration": 777,
        "start_time": "2022-05-08T14:04:03.718Z"
      },
      {
        "duration": 9,
        "start_time": "2022-05-08T14:04:04.496Z"
      },
      {
        "duration": 11,
        "start_time": "2022-05-08T14:04:04.507Z"
      },
      {
        "duration": 2854,
        "start_time": "2022-05-08T14:04:04.520Z"
      },
      {
        "duration": 66,
        "start_time": "2022-05-08T14:04:07.375Z"
      },
      {
        "duration": 9,
        "start_time": "2022-05-08T14:04:07.443Z"
      },
      {
        "duration": 11,
        "start_time": "2022-05-08T14:04:07.454Z"
      },
      {
        "duration": 41,
        "start_time": "2022-05-08T14:04:07.492Z"
      },
      {
        "duration": 1294,
        "start_time": "2022-05-08T14:04:07.535Z"
      },
      {
        "duration": 10,
        "start_time": "2022-05-08T14:04:08.831Z"
      },
      {
        "duration": 12,
        "start_time": "2022-05-08T14:04:08.843Z"
      },
      {
        "duration": 12,
        "start_time": "2022-05-08T14:04:08.856Z"
      },
      {
        "duration": 27,
        "start_time": "2022-05-08T14:04:08.870Z"
      },
      {
        "duration": 14,
        "start_time": "2022-05-08T14:04:08.899Z"
      },
      {
        "duration": 9,
        "start_time": "2022-05-08T14:08:17.418Z"
      },
      {
        "duration": 9,
        "start_time": "2022-05-08T14:09:11.645Z"
      },
      {
        "duration": 56,
        "start_time": "2022-05-08T14:10:47.346Z"
      },
      {
        "duration": 22,
        "start_time": "2022-05-08T14:10:48.712Z"
      },
      {
        "duration": 1162,
        "start_time": "2022-05-08T14:22:16.490Z"
      },
      {
        "duration": 424,
        "start_time": "2022-05-08T14:22:17.654Z"
      },
      {
        "duration": 3,
        "start_time": "2022-05-08T14:22:18.080Z"
      },
      {
        "duration": 47,
        "start_time": "2022-05-08T14:22:18.085Z"
      },
      {
        "duration": 82,
        "start_time": "2022-05-08T14:22:18.133Z"
      },
      {
        "duration": 41,
        "start_time": "2022-05-08T14:22:18.217Z"
      },
      {
        "duration": 85,
        "start_time": "2022-05-08T14:22:18.260Z"
      },
      {
        "duration": 63,
        "start_time": "2022-05-08T14:22:18.347Z"
      },
      {
        "duration": 14,
        "start_time": "2022-05-08T14:22:18.412Z"
      },
      {
        "duration": 8,
        "start_time": "2022-05-08T14:22:18.429Z"
      },
      {
        "duration": 7,
        "start_time": "2022-05-08T14:22:18.438Z"
      },
      {
        "duration": 7,
        "start_time": "2022-05-08T14:22:18.446Z"
      },
      {
        "duration": 39,
        "start_time": "2022-05-08T14:22:18.455Z"
      },
      {
        "duration": 5,
        "start_time": "2022-05-08T14:22:18.496Z"
      },
      {
        "duration": 11,
        "start_time": "2022-05-08T14:22:18.503Z"
      },
      {
        "duration": 13,
        "start_time": "2022-05-08T14:22:18.516Z"
      },
      {
        "duration": 15,
        "start_time": "2022-05-08T14:22:18.531Z"
      },
      {
        "duration": 46,
        "start_time": "2022-05-08T14:22:18.548Z"
      },
      {
        "duration": 7,
        "start_time": "2022-05-08T14:22:18.596Z"
      },
      {
        "duration": 10,
        "start_time": "2022-05-08T14:22:18.604Z"
      },
      {
        "duration": 12,
        "start_time": "2022-05-08T14:22:18.616Z"
      },
      {
        "duration": 15,
        "start_time": "2022-05-08T14:22:18.630Z"
      },
      {
        "duration": 8,
        "start_time": "2022-05-08T14:22:18.647Z"
      },
      {
        "duration": 37,
        "start_time": "2022-05-08T14:22:18.657Z"
      },
      {
        "duration": 13,
        "start_time": "2022-05-08T14:22:18.696Z"
      },
      {
        "duration": 308,
        "start_time": "2022-05-08T14:22:18.711Z"
      },
      {
        "duration": 6,
        "start_time": "2022-05-08T14:22:19.021Z"
      },
      {
        "duration": 38,
        "start_time": "2022-05-08T14:22:19.033Z"
      },
      {
        "duration": 58,
        "start_time": "2022-05-08T14:22:19.073Z"
      },
      {
        "duration": 6,
        "start_time": "2022-05-08T14:22:19.133Z"
      },
      {
        "duration": 27,
        "start_time": "2022-05-08T14:22:19.141Z"
      },
      {
        "duration": 27,
        "start_time": "2022-05-08T14:22:19.169Z"
      },
      {
        "duration": 11,
        "start_time": "2022-05-08T14:22:19.198Z"
      },
      {
        "duration": 34,
        "start_time": "2022-05-08T14:22:19.210Z"
      },
      {
        "duration": 28,
        "start_time": "2022-05-08T14:22:19.246Z"
      },
      {
        "duration": 9,
        "start_time": "2022-05-08T14:22:19.293Z"
      },
      {
        "duration": 16,
        "start_time": "2022-05-08T14:22:19.304Z"
      },
      {
        "duration": 56,
        "start_time": "2022-05-08T14:22:19.322Z"
      },
      {
        "duration": 138,
        "start_time": "2022-05-08T14:22:19.393Z"
      },
      {
        "duration": 6,
        "start_time": "2022-05-08T14:22:19.533Z"
      },
      {
        "duration": 33,
        "start_time": "2022-05-08T14:22:19.541Z"
      },
      {
        "duration": 59,
        "start_time": "2022-05-08T14:22:19.576Z"
      },
      {
        "duration": 8,
        "start_time": "2022-05-08T14:22:19.637Z"
      },
      {
        "duration": 7,
        "start_time": "2022-05-08T14:22:19.647Z"
      },
      {
        "duration": 41,
        "start_time": "2022-05-08T14:22:19.656Z"
      },
      {
        "duration": 32,
        "start_time": "2022-05-08T14:22:19.699Z"
      },
      {
        "duration": 93,
        "start_time": "2022-05-08T14:22:19.733Z"
      },
      {
        "duration": 9,
        "start_time": "2022-05-08T14:22:19.827Z"
      },
      {
        "duration": 16,
        "start_time": "2022-05-08T14:22:19.837Z"
      },
      {
        "duration": 159,
        "start_time": "2022-05-08T14:22:19.855Z"
      },
      {
        "duration": 6,
        "start_time": "2022-05-08T14:22:20.016Z"
      },
      {
        "duration": 21,
        "start_time": "2022-05-08T14:22:20.024Z"
      },
      {
        "duration": 17,
        "start_time": "2022-05-08T14:22:20.047Z"
      },
      {
        "duration": 33,
        "start_time": "2022-05-08T14:22:20.066Z"
      },
      {
        "duration": 21,
        "start_time": "2022-05-08T14:22:20.101Z"
      },
      {
        "duration": 25,
        "start_time": "2022-05-08T14:22:20.123Z"
      },
      {
        "duration": 5,
        "start_time": "2022-05-08T14:22:20.150Z"
      },
      {
        "duration": 67,
        "start_time": "2022-05-08T14:22:20.156Z"
      },
      {
        "duration": 6,
        "start_time": "2022-05-08T14:22:20.224Z"
      },
      {
        "duration": 8,
        "start_time": "2022-05-08T14:22:20.232Z"
      },
      {
        "duration": 95,
        "start_time": "2022-05-08T14:22:20.242Z"
      },
      {
        "duration": 63,
        "start_time": "2022-05-08T14:22:20.339Z"
      },
      {
        "duration": 40,
        "start_time": "2022-05-08T14:22:20.405Z"
      },
      {
        "duration": 47,
        "start_time": "2022-05-08T14:22:20.447Z"
      },
      {
        "duration": 52,
        "start_time": "2022-05-08T14:22:20.496Z"
      },
      {
        "duration": 6,
        "start_time": "2022-05-08T14:22:20.550Z"
      },
      {
        "duration": 9,
        "start_time": "2022-05-08T14:22:20.558Z"
      },
      {
        "duration": 11,
        "start_time": "2022-05-08T14:22:20.594Z"
      },
      {
        "duration": 15,
        "start_time": "2022-05-08T14:22:20.608Z"
      },
      {
        "duration": 6,
        "start_time": "2022-05-08T14:22:20.625Z"
      },
      {
        "duration": 69,
        "start_time": "2022-05-08T14:22:20.632Z"
      },
      {
        "duration": 22,
        "start_time": "2022-05-08T14:22:20.703Z"
      },
      {
        "duration": 11,
        "start_time": "2022-05-08T14:22:20.727Z"
      },
      {
        "duration": 19,
        "start_time": "2022-05-08T14:22:20.741Z"
      },
      {
        "duration": 270,
        "start_time": "2022-05-08T14:22:20.762Z"
      },
      {
        "duration": 5,
        "start_time": "2022-05-08T14:22:21.034Z"
      },
      {
        "duration": 18,
        "start_time": "2022-05-08T14:22:21.042Z"
      },
      {
        "duration": 48,
        "start_time": "2022-05-08T14:22:21.062Z"
      },
      {
        "duration": 44,
        "start_time": "2022-05-08T14:22:21.112Z"
      },
      {
        "duration": 6,
        "start_time": "2022-05-08T14:22:21.158Z"
      },
      {
        "duration": 812,
        "start_time": "2022-05-08T14:22:21.166Z"
      },
      {
        "duration": 9,
        "start_time": "2022-05-08T14:22:21.984Z"
      },
      {
        "duration": 16,
        "start_time": "2022-05-08T14:22:21.995Z"
      },
      {
        "duration": 21,
        "start_time": "2022-05-08T14:22:22.013Z"
      },
      {
        "duration": 59,
        "start_time": "2022-05-08T14:22:22.036Z"
      },
      {
        "duration": 4,
        "start_time": "2022-05-08T14:22:22.097Z"
      },
      {
        "duration": 382,
        "start_time": "2022-05-08T14:22:22.102Z"
      },
      {
        "duration": 361,
        "start_time": "2022-05-08T14:22:22.486Z"
      },
      {
        "duration": 10,
        "start_time": "2022-05-08T14:22:22.849Z"
      },
      {
        "duration": 9,
        "start_time": "2022-05-08T14:22:22.861Z"
      },
      {
        "duration": 29,
        "start_time": "2022-05-08T14:22:22.873Z"
      },
      {
        "duration": 2329,
        "start_time": "2022-05-08T14:22:22.904Z"
      },
      {
        "duration": 70,
        "start_time": "2022-05-08T14:22:25.235Z"
      },
      {
        "duration": 10,
        "start_time": "2022-05-08T14:22:25.307Z"
      },
      {
        "duration": 22,
        "start_time": "2022-05-08T14:22:25.319Z"
      },
      {
        "duration": 74,
        "start_time": "2022-05-08T14:22:25.343Z"
      },
      {
        "duration": 1765,
        "start_time": "2022-05-08T14:22:25.419Z"
      },
      {
        "duration": 16,
        "start_time": "2022-05-08T14:22:27.185Z"
      },
      {
        "duration": 14,
        "start_time": "2022-05-08T14:22:27.203Z"
      },
      {
        "duration": 12,
        "start_time": "2022-05-08T14:22:27.220Z"
      },
      {
        "duration": 12,
        "start_time": "2022-05-08T14:22:27.234Z"
      },
      {
        "duration": 53,
        "start_time": "2022-05-08T14:22:27.249Z"
      },
      {
        "duration": 27,
        "start_time": "2022-05-08T14:25:10.969Z"
      },
      {
        "duration": 5,
        "start_time": "2022-05-08T14:25:44.546Z"
      },
      {
        "duration": 1185,
        "start_time": "2022-05-08T14:29:48.545Z"
      },
      {
        "duration": 397,
        "start_time": "2022-05-08T14:29:49.732Z"
      },
      {
        "duration": 4,
        "start_time": "2022-05-08T14:29:50.131Z"
      },
      {
        "duration": 57,
        "start_time": "2022-05-08T14:29:50.138Z"
      },
      {
        "duration": 64,
        "start_time": "2022-05-08T14:29:50.197Z"
      },
      {
        "duration": 61,
        "start_time": "2022-05-08T14:29:50.263Z"
      },
      {
        "duration": 78,
        "start_time": "2022-05-08T14:29:50.326Z"
      },
      {
        "duration": 39,
        "start_time": "2022-05-08T14:29:50.406Z"
      },
      {
        "duration": 13,
        "start_time": "2022-05-08T14:29:50.446Z"
      },
      {
        "duration": 35,
        "start_time": "2022-05-08T14:29:50.461Z"
      },
      {
        "duration": 6,
        "start_time": "2022-05-08T14:29:50.499Z"
      },
      {
        "duration": 21,
        "start_time": "2022-05-08T14:29:50.507Z"
      },
      {
        "duration": 10,
        "start_time": "2022-05-08T14:29:50.530Z"
      },
      {
        "duration": 12,
        "start_time": "2022-05-08T14:29:50.541Z"
      },
      {
        "duration": 21,
        "start_time": "2022-05-08T14:29:50.554Z"
      },
      {
        "duration": 17,
        "start_time": "2022-05-08T14:29:50.577Z"
      },
      {
        "duration": 18,
        "start_time": "2022-05-08T14:29:50.596Z"
      },
      {
        "duration": 14,
        "start_time": "2022-05-08T14:29:50.616Z"
      },
      {
        "duration": 12,
        "start_time": "2022-05-08T14:29:50.631Z"
      },
      {
        "duration": 10,
        "start_time": "2022-05-08T14:29:50.645Z"
      },
      {
        "duration": 18,
        "start_time": "2022-05-08T14:29:50.657Z"
      },
      {
        "duration": 23,
        "start_time": "2022-05-08T14:29:50.677Z"
      },
      {
        "duration": 11,
        "start_time": "2022-05-08T14:29:50.702Z"
      },
      {
        "duration": 27,
        "start_time": "2022-05-08T14:29:50.714Z"
      },
      {
        "duration": 23,
        "start_time": "2022-05-08T14:29:50.742Z"
      },
      {
        "duration": 294,
        "start_time": "2022-05-08T14:29:50.767Z"
      },
      {
        "duration": 5,
        "start_time": "2022-05-08T14:29:51.063Z"
      },
      {
        "duration": 38,
        "start_time": "2022-05-08T14:29:51.073Z"
      },
      {
        "duration": 43,
        "start_time": "2022-05-08T14:29:51.113Z"
      },
      {
        "duration": 5,
        "start_time": "2022-05-08T14:29:51.158Z"
      },
      {
        "duration": 39,
        "start_time": "2022-05-08T14:29:51.165Z"
      },
      {
        "duration": 19,
        "start_time": "2022-05-08T14:29:51.205Z"
      },
      {
        "duration": 11,
        "start_time": "2022-05-08T14:29:51.226Z"
      },
      {
        "duration": 55,
        "start_time": "2022-05-08T14:29:51.239Z"
      },
      {
        "duration": 22,
        "start_time": "2022-05-08T14:29:51.296Z"
      },
      {
        "duration": 7,
        "start_time": "2022-05-08T14:29:51.320Z"
      },
      {
        "duration": 11,
        "start_time": "2022-05-08T14:29:51.329Z"
      },
      {
        "duration": 113,
        "start_time": "2022-05-08T14:29:51.341Z"
      },
      {
        "duration": 162,
        "start_time": "2022-05-08T14:29:51.455Z"
      },
      {
        "duration": 6,
        "start_time": "2022-05-08T14:29:51.618Z"
      },
      {
        "duration": 38,
        "start_time": "2022-05-08T14:29:51.626Z"
      },
      {
        "duration": 62,
        "start_time": "2022-05-08T14:29:51.666Z"
      },
      {
        "duration": 9,
        "start_time": "2022-05-08T14:29:51.730Z"
      },
      {
        "duration": 6,
        "start_time": "2022-05-08T14:29:51.742Z"
      },
      {
        "duration": 48,
        "start_time": "2022-05-08T14:29:51.750Z"
      },
      {
        "duration": 37,
        "start_time": "2022-05-08T14:29:51.800Z"
      },
      {
        "duration": 89,
        "start_time": "2022-05-08T14:29:51.839Z"
      },
      {
        "duration": 8,
        "start_time": "2022-05-08T14:29:51.929Z"
      },
      {
        "duration": 16,
        "start_time": "2022-05-08T14:29:51.939Z"
      },
      {
        "duration": 152,
        "start_time": "2022-05-08T14:29:51.956Z"
      },
      {
        "duration": 146,
        "start_time": "2022-05-08T14:29:52.110Z"
      },
      {
        "duration": 32,
        "start_time": "2022-05-08T14:29:52.258Z"
      },
      {
        "duration": 18,
        "start_time": "2022-05-08T14:29:52.292Z"
      },
      {
        "duration": 10,
        "start_time": "2022-05-08T14:29:52.313Z"
      },
      {
        "duration": 34,
        "start_time": "2022-05-08T14:29:52.325Z"
      },
      {
        "duration": 46,
        "start_time": "2022-05-08T14:29:52.363Z"
      },
      {
        "duration": 5,
        "start_time": "2022-05-08T14:29:52.411Z"
      },
      {
        "duration": 53,
        "start_time": "2022-05-08T14:29:52.418Z"
      },
      {
        "duration": 24,
        "start_time": "2022-05-08T14:29:52.473Z"
      },
      {
        "duration": 11,
        "start_time": "2022-05-08T14:29:52.499Z"
      },
      {
        "duration": 118,
        "start_time": "2022-05-08T14:29:52.512Z"
      },
      {
        "duration": 34,
        "start_time": "2022-05-08T14:29:52.632Z"
      },
      {
        "duration": 49,
        "start_time": "2022-05-08T14:29:52.669Z"
      },
      {
        "duration": 18,
        "start_time": "2022-05-08T14:29:52.720Z"
      },
      {
        "duration": 55,
        "start_time": "2022-05-08T14:29:52.740Z"
      },
      {
        "duration": 5,
        "start_time": "2022-05-08T14:29:52.797Z"
      },
      {
        "duration": 12,
        "start_time": "2022-05-08T14:29:52.804Z"
      },
      {
        "duration": 13,
        "start_time": "2022-05-08T14:29:52.818Z"
      },
      {
        "duration": 18,
        "start_time": "2022-05-08T14:29:52.833Z"
      },
      {
        "duration": 6,
        "start_time": "2022-05-08T14:29:52.852Z"
      },
      {
        "duration": 79,
        "start_time": "2022-05-08T14:29:52.860Z"
      },
      {
        "duration": 20,
        "start_time": "2022-05-08T14:29:52.942Z"
      },
      {
        "duration": 8,
        "start_time": "2022-05-08T14:29:52.963Z"
      },
      {
        "duration": 22,
        "start_time": "2022-05-08T14:29:52.973Z"
      },
      {
        "duration": 331,
        "start_time": "2022-05-08T14:29:52.998Z"
      },
      {
        "duration": 4,
        "start_time": "2022-05-08T14:29:53.333Z"
      },
      {
        "duration": 21,
        "start_time": "2022-05-08T14:29:53.339Z"
      },
      {
        "duration": 59,
        "start_time": "2022-05-08T14:29:53.362Z"
      },
      {
        "duration": 34,
        "start_time": "2022-05-08T14:29:53.423Z"
      },
      {
        "duration": 15,
        "start_time": "2022-05-08T14:29:53.459Z"
      },
      {
        "duration": 1160,
        "start_time": "2022-05-08T14:29:53.476Z"
      },
      {
        "duration": 5,
        "start_time": "2022-05-08T14:29:54.642Z"
      },
      {
        "duration": 33,
        "start_time": "2022-05-08T14:29:54.649Z"
      },
      {
        "duration": 54,
        "start_time": "2022-05-08T14:29:54.684Z"
      },
      {
        "duration": 38,
        "start_time": "2022-05-08T14:29:54.740Z"
      },
      {
        "duration": 10,
        "start_time": "2022-05-08T14:29:54.780Z"
      },
      {
        "duration": 390,
        "start_time": "2022-05-08T14:29:54.792Z"
      },
      {
        "duration": 368,
        "start_time": "2022-05-08T14:29:55.185Z"
      },
      {
        "duration": 9,
        "start_time": "2022-05-08T14:29:55.554Z"
      },
      {
        "duration": 24,
        "start_time": "2022-05-08T14:29:55.565Z"
      },
      {
        "duration": 8,
        "start_time": "2022-05-08T14:29:55.591Z"
      },
      {
        "duration": 2167,
        "start_time": "2022-05-08T14:29:55.602Z"
      },
      {
        "duration": 67,
        "start_time": "2022-05-08T14:29:57.771Z"
      },
      {
        "duration": 9,
        "start_time": "2022-05-08T14:29:57.840Z"
      },
      {
        "duration": 17,
        "start_time": "2022-05-08T14:29:57.850Z"
      },
      {
        "duration": 56,
        "start_time": "2022-05-08T14:29:57.869Z"
      },
      {
        "duration": 1223,
        "start_time": "2022-05-08T14:29:57.927Z"
      },
      {
        "duration": 11,
        "start_time": "2022-05-08T14:29:59.151Z"
      },
      {
        "duration": 14,
        "start_time": "2022-05-08T14:29:59.164Z"
      },
      {
        "duration": 20,
        "start_time": "2022-05-08T14:29:59.180Z"
      },
      {
        "duration": 14,
        "start_time": "2022-05-08T14:29:59.202Z"
      },
      {
        "duration": 14,
        "start_time": "2022-05-08T14:29:59.218Z"
      },
      {
        "duration": 9,
        "start_time": "2022-05-08T14:29:59.234Z"
      },
      {
        "duration": 84,
        "start_time": "2022-05-12T20:49:14.323Z"
      },
      {
        "duration": 1594,
        "start_time": "2022-05-12T20:49:21.867Z"
      },
      {
        "duration": 578,
        "start_time": "2022-05-12T20:49:23.463Z"
      },
      {
        "duration": 4,
        "start_time": "2022-05-12T20:49:24.044Z"
      },
      {
        "duration": 76,
        "start_time": "2022-05-12T20:49:24.051Z"
      },
      {
        "duration": 116,
        "start_time": "2022-05-12T20:49:24.130Z"
      },
      {
        "duration": 86,
        "start_time": "2022-05-12T20:49:24.249Z"
      },
      {
        "duration": 118,
        "start_time": "2022-05-12T20:49:24.338Z"
      },
      {
        "duration": 86,
        "start_time": "2022-05-12T20:49:24.458Z"
      },
      {
        "duration": 45,
        "start_time": "2022-05-12T20:49:24.547Z"
      },
      {
        "duration": 28,
        "start_time": "2022-05-12T20:49:24.595Z"
      },
      {
        "duration": 8,
        "start_time": "2022-05-12T20:49:24.626Z"
      },
      {
        "duration": 9,
        "start_time": "2022-05-12T20:49:24.636Z"
      },
      {
        "duration": 12,
        "start_time": "2022-05-12T20:49:24.647Z"
      },
      {
        "duration": 9,
        "start_time": "2022-05-12T20:49:24.683Z"
      },
      {
        "duration": 36,
        "start_time": "2022-05-12T20:49:24.694Z"
      },
      {
        "duration": 18,
        "start_time": "2022-05-12T20:49:24.732Z"
      },
      {
        "duration": 18,
        "start_time": "2022-05-12T20:49:24.752Z"
      },
      {
        "duration": 19,
        "start_time": "2022-05-12T20:49:24.794Z"
      },
      {
        "duration": 9,
        "start_time": "2022-05-12T20:49:24.815Z"
      },
      {
        "duration": 15,
        "start_time": "2022-05-12T20:49:24.828Z"
      },
      {
        "duration": 44,
        "start_time": "2022-05-12T20:49:24.846Z"
      },
      {
        "duration": 20,
        "start_time": "2022-05-12T20:49:24.893Z"
      },
      {
        "duration": 13,
        "start_time": "2022-05-12T20:49:24.916Z"
      },
      {
        "duration": 10,
        "start_time": "2022-05-12T20:49:24.931Z"
      },
      {
        "duration": 51,
        "start_time": "2022-05-12T20:49:24.944Z"
      },
      {
        "duration": 468,
        "start_time": "2022-05-12T20:49:24.998Z"
      },
      {
        "duration": 21,
        "start_time": "2022-05-12T20:49:25.469Z"
      },
      {
        "duration": 59,
        "start_time": "2022-05-12T20:49:25.493Z"
      },
      {
        "duration": 82,
        "start_time": "2022-05-12T20:49:25.554Z"
      },
      {
        "duration": 7,
        "start_time": "2022-05-12T20:49:25.639Z"
      },
      {
        "duration": 49,
        "start_time": "2022-05-12T20:49:25.649Z"
      },
      {
        "duration": 26,
        "start_time": "2022-05-12T20:49:25.700Z"
      },
      {
        "duration": 15,
        "start_time": "2022-05-12T20:49:25.729Z"
      },
      {
        "duration": 75,
        "start_time": "2022-05-12T20:49:25.746Z"
      },
      {
        "duration": 32,
        "start_time": "2022-05-12T20:49:25.825Z"
      },
      {
        "duration": 32,
        "start_time": "2022-05-12T20:49:25.860Z"
      },
      {
        "duration": 25,
        "start_time": "2022-05-12T20:49:25.898Z"
      },
      {
        "duration": 105,
        "start_time": "2022-05-12T20:49:25.925Z"
      },
      {
        "duration": 172,
        "start_time": "2022-05-12T20:49:26.032Z"
      },
      {
        "duration": 10,
        "start_time": "2022-05-12T20:49:26.206Z"
      },
      {
        "duration": 63,
        "start_time": "2022-05-12T20:49:26.234Z"
      },
      {
        "duration": 52,
        "start_time": "2022-05-12T20:49:26.299Z"
      },
      {
        "duration": 38,
        "start_time": "2022-05-12T20:49:26.354Z"
      },
      {
        "duration": 11,
        "start_time": "2022-05-12T20:49:26.395Z"
      },
      {
        "duration": 31,
        "start_time": "2022-05-12T20:49:26.408Z"
      },
      {
        "duration": 46,
        "start_time": "2022-05-12T20:49:26.441Z"
      },
      {
        "duration": 135,
        "start_time": "2022-05-12T20:49:26.492Z"
      },
      {
        "duration": 10,
        "start_time": "2022-05-12T20:49:26.629Z"
      },
      {
        "duration": 20,
        "start_time": "2022-05-12T20:49:26.641Z"
      },
      {
        "duration": 181,
        "start_time": "2022-05-12T20:49:26.681Z"
      },
      {
        "duration": 23,
        "start_time": "2022-05-12T20:49:26.865Z"
      },
      {
        "duration": 39,
        "start_time": "2022-05-12T20:49:26.890Z"
      },
      {
        "duration": 24,
        "start_time": "2022-05-12T20:49:26.932Z"
      },
      {
        "duration": 40,
        "start_time": "2022-05-12T20:49:26.958Z"
      },
      {
        "duration": 30,
        "start_time": "2022-05-12T20:49:27.001Z"
      },
      {
        "duration": 34,
        "start_time": "2022-05-12T20:49:27.033Z"
      },
      {
        "duration": 9,
        "start_time": "2022-05-12T20:49:27.091Z"
      },
      {
        "duration": 62,
        "start_time": "2022-05-12T20:49:27.103Z"
      },
      {
        "duration": 36,
        "start_time": "2022-05-12T20:49:27.167Z"
      },
      {
        "duration": 12,
        "start_time": "2022-05-12T20:49:27.206Z"
      },
      {
        "duration": 196,
        "start_time": "2022-05-12T20:49:27.220Z"
      },
      {
        "duration": 65,
        "start_time": "2022-05-12T20:49:27.421Z"
      },
      {
        "duration": 41,
        "start_time": "2022-05-12T20:49:27.491Z"
      },
      {
        "duration": 55,
        "start_time": "2022-05-12T20:49:27.534Z"
      },
      {
        "duration": 58,
        "start_time": "2022-05-12T20:49:27.595Z"
      },
      {
        "duration": 8,
        "start_time": "2022-05-12T20:49:27.656Z"
      },
      {
        "duration": 33,
        "start_time": "2022-05-12T20:49:27.666Z"
      },
      {
        "duration": 26,
        "start_time": "2022-05-12T20:49:27.701Z"
      },
      {
        "duration": 22,
        "start_time": "2022-05-12T20:49:27.729Z"
      },
      {
        "duration": 9,
        "start_time": "2022-05-12T20:49:27.753Z"
      },
      {
        "duration": 88,
        "start_time": "2022-05-12T20:49:27.764Z"
      },
      {
        "duration": 47,
        "start_time": "2022-05-12T20:49:27.854Z"
      },
      {
        "duration": 16,
        "start_time": "2022-05-12T20:49:27.903Z"
      },
      {
        "duration": 10,
        "start_time": "2022-05-12T20:49:27.921Z"
      },
      {
        "duration": 493,
        "start_time": "2022-05-12T20:49:27.934Z"
      },
      {
        "duration": 5,
        "start_time": "2022-05-12T20:49:28.429Z"
      },
      {
        "duration": 13,
        "start_time": "2022-05-12T20:49:28.436Z"
      },
      {
        "duration": 95,
        "start_time": "2022-05-12T20:49:28.451Z"
      },
      {
        "duration": 70,
        "start_time": "2022-05-12T20:49:28.548Z"
      },
      {
        "duration": 7,
        "start_time": "2022-05-12T20:49:28.620Z"
      },
      {
        "duration": 1555,
        "start_time": "2022-05-12T20:49:28.629Z"
      },
      {
        "duration": 15,
        "start_time": "2022-05-12T20:49:30.189Z"
      },
      {
        "duration": 44,
        "start_time": "2022-05-12T20:49:30.207Z"
      },
      {
        "duration": 48,
        "start_time": "2022-05-12T20:49:30.254Z"
      },
      {
        "duration": 46,
        "start_time": "2022-05-12T20:49:30.306Z"
      },
      {
        "duration": 27,
        "start_time": "2022-05-12T20:49:30.355Z"
      },
      {
        "duration": 265,
        "start_time": "2022-05-12T20:49:30.384Z"
      },
      {
        "duration": 0,
        "start_time": "2022-05-12T20:49:30.652Z"
      },
      {
        "duration": 0,
        "start_time": "2022-05-12T20:49:30.654Z"
      },
      {
        "duration": 0,
        "start_time": "2022-05-12T20:49:30.656Z"
      },
      {
        "duration": 0,
        "start_time": "2022-05-12T20:49:30.657Z"
      },
      {
        "duration": 0,
        "start_time": "2022-05-12T20:49:30.659Z"
      },
      {
        "duration": 0,
        "start_time": "2022-05-12T20:49:30.684Z"
      },
      {
        "duration": 0,
        "start_time": "2022-05-12T20:49:30.685Z"
      },
      {
        "duration": 0,
        "start_time": "2022-05-12T20:49:30.686Z"
      },
      {
        "duration": 0,
        "start_time": "2022-05-12T20:49:30.687Z"
      },
      {
        "duration": 0,
        "start_time": "2022-05-12T20:49:30.691Z"
      },
      {
        "duration": 0,
        "start_time": "2022-05-12T20:49:30.696Z"
      },
      {
        "duration": 0,
        "start_time": "2022-05-12T20:49:30.698Z"
      },
      {
        "duration": 0,
        "start_time": "2022-05-12T20:49:30.705Z"
      },
      {
        "duration": 0,
        "start_time": "2022-05-12T20:49:30.707Z"
      },
      {
        "duration": 0,
        "start_time": "2022-05-12T20:49:30.711Z"
      },
      {
        "duration": 0,
        "start_time": "2022-05-12T20:49:30.712Z"
      },
      {
        "duration": 0,
        "start_time": "2022-05-12T20:49:30.718Z"
      },
      {
        "duration": 0,
        "start_time": "2022-05-12T20:49:30.719Z"
      },
      {
        "duration": 16,
        "start_time": "2022-05-12T20:50:12.765Z"
      },
      {
        "duration": 1746,
        "start_time": "2022-05-12T20:50:48.582Z"
      },
      {
        "duration": 612,
        "start_time": "2022-05-12T20:50:50.330Z"
      },
      {
        "duration": 5,
        "start_time": "2022-05-12T20:50:50.945Z"
      },
      {
        "duration": 83,
        "start_time": "2022-05-12T20:50:50.955Z"
      },
      {
        "duration": 158,
        "start_time": "2022-05-12T20:50:51.041Z"
      },
      {
        "duration": 91,
        "start_time": "2022-05-12T20:50:51.212Z"
      },
      {
        "duration": 115,
        "start_time": "2022-05-12T20:50:51.305Z"
      },
      {
        "duration": 113,
        "start_time": "2022-05-12T20:50:51.423Z"
      },
      {
        "duration": 52,
        "start_time": "2022-05-12T20:50:51.539Z"
      },
      {
        "duration": 11,
        "start_time": "2022-05-12T20:50:51.597Z"
      },
      {
        "duration": 26,
        "start_time": "2022-05-12T20:50:51.610Z"
      },
      {
        "duration": 12,
        "start_time": "2022-05-12T20:50:51.639Z"
      },
      {
        "duration": 38,
        "start_time": "2022-05-12T20:50:51.654Z"
      },
      {
        "duration": 41,
        "start_time": "2022-05-12T20:50:51.696Z"
      },
      {
        "duration": 19,
        "start_time": "2022-05-12T20:50:51.740Z"
      },
      {
        "duration": 29,
        "start_time": "2022-05-12T20:50:51.762Z"
      },
      {
        "duration": 63,
        "start_time": "2022-05-12T20:50:51.794Z"
      },
      {
        "duration": 18,
        "start_time": "2022-05-12T20:50:51.860Z"
      },
      {
        "duration": 16,
        "start_time": "2022-05-12T20:50:51.881Z"
      },
      {
        "duration": 48,
        "start_time": "2022-05-12T20:50:51.905Z"
      },
      {
        "duration": 15,
        "start_time": "2022-05-12T20:50:51.957Z"
      },
      {
        "duration": 73,
        "start_time": "2022-05-12T20:50:51.975Z"
      },
      {
        "duration": 14,
        "start_time": "2022-05-12T20:50:52.050Z"
      },
      {
        "duration": 11,
        "start_time": "2022-05-12T20:50:52.067Z"
      },
      {
        "duration": 65,
        "start_time": "2022-05-12T20:50:52.081Z"
      },
      {
        "duration": 418,
        "start_time": "2022-05-12T20:50:52.149Z"
      },
      {
        "duration": 20,
        "start_time": "2022-05-12T20:50:52.570Z"
      },
      {
        "duration": 72,
        "start_time": "2022-05-12T20:50:52.603Z"
      },
      {
        "duration": 122,
        "start_time": "2022-05-12T20:50:52.678Z"
      },
      {
        "duration": 11,
        "start_time": "2022-05-12T20:50:52.808Z"
      },
      {
        "duration": 43,
        "start_time": "2022-05-12T20:50:52.822Z"
      },
      {
        "duration": 46,
        "start_time": "2022-05-12T20:50:52.867Z"
      },
      {
        "duration": 25,
        "start_time": "2022-05-12T20:50:52.916Z"
      },
      {
        "duration": 49,
        "start_time": "2022-05-12T20:50:52.943Z"
      },
      {
        "duration": 40,
        "start_time": "2022-05-12T20:50:53.001Z"
      },
      {
        "duration": 17,
        "start_time": "2022-05-12T20:50:53.043Z"
      },
      {
        "duration": 47,
        "start_time": "2022-05-12T20:50:53.062Z"
      },
      {
        "duration": 126,
        "start_time": "2022-05-12T20:50:53.120Z"
      },
      {
        "duration": 197,
        "start_time": "2022-05-12T20:50:53.249Z"
      },
      {
        "duration": 7,
        "start_time": "2022-05-12T20:50:53.449Z"
      },
      {
        "duration": 80,
        "start_time": "2022-05-12T20:50:53.460Z"
      },
      {
        "duration": 90,
        "start_time": "2022-05-12T20:50:53.544Z"
      },
      {
        "duration": 13,
        "start_time": "2022-05-12T20:50:53.641Z"
      },
      {
        "duration": 35,
        "start_time": "2022-05-12T20:50:53.657Z"
      },
      {
        "duration": 66,
        "start_time": "2022-05-12T20:50:53.699Z"
      },
      {
        "duration": 75,
        "start_time": "2022-05-12T20:50:53.768Z"
      },
      {
        "duration": 189,
        "start_time": "2022-05-12T20:50:53.847Z"
      },
      {
        "duration": 15,
        "start_time": "2022-05-12T20:50:54.040Z"
      },
      {
        "duration": 48,
        "start_time": "2022-05-12T20:50:54.058Z"
      },
      {
        "duration": 340,
        "start_time": "2022-05-12T20:50:54.109Z"
      },
      {
        "duration": 9,
        "start_time": "2022-05-12T20:50:54.451Z"
      },
      {
        "duration": 46,
        "start_time": "2022-05-12T20:50:54.462Z"
      },
      {
        "duration": 47,
        "start_time": "2022-05-12T20:50:54.510Z"
      },
      {
        "duration": 12,
        "start_time": "2022-05-12T20:50:54.559Z"
      },
      {
        "duration": 36,
        "start_time": "2022-05-12T20:50:54.586Z"
      },
      {
        "duration": 38,
        "start_time": "2022-05-12T20:50:54.627Z"
      },
      {
        "duration": 23,
        "start_time": "2022-05-12T20:50:54.682Z"
      },
      {
        "duration": 75,
        "start_time": "2022-05-12T20:50:54.707Z"
      },
      {
        "duration": 17,
        "start_time": "2022-05-12T20:50:54.787Z"
      },
      {
        "duration": 42,
        "start_time": "2022-05-12T20:50:54.806Z"
      },
      {
        "duration": 190,
        "start_time": "2022-05-12T20:50:54.850Z"
      },
      {
        "duration": 92,
        "start_time": "2022-05-12T20:50:55.043Z"
      },
      {
        "duration": 68,
        "start_time": "2022-05-12T20:50:55.138Z"
      },
      {
        "duration": 27,
        "start_time": "2022-05-12T20:50:55.212Z"
      },
      {
        "duration": 78,
        "start_time": "2022-05-12T20:50:55.242Z"
      },
      {
        "duration": 8,
        "start_time": "2022-05-12T20:50:55.324Z"
      },
      {
        "duration": 13,
        "start_time": "2022-05-12T20:50:55.334Z"
      },
      {
        "duration": 46,
        "start_time": "2022-05-12T20:50:55.349Z"
      },
      {
        "duration": 29,
        "start_time": "2022-05-12T20:50:55.398Z"
      },
      {
        "duration": 15,
        "start_time": "2022-05-12T20:50:55.430Z"
      },
      {
        "duration": 82,
        "start_time": "2022-05-12T20:50:55.448Z"
      },
      {
        "duration": 23,
        "start_time": "2022-05-12T20:50:55.532Z"
      },
      {
        "duration": 44,
        "start_time": "2022-05-12T20:50:55.557Z"
      },
      {
        "duration": 19,
        "start_time": "2022-05-12T20:50:55.603Z"
      },
      {
        "duration": 513,
        "start_time": "2022-05-12T20:50:55.625Z"
      },
      {
        "duration": 5,
        "start_time": "2022-05-12T20:50:56.140Z"
      },
      {
        "duration": 13,
        "start_time": "2022-05-12T20:50:56.147Z"
      },
      {
        "duration": 93,
        "start_time": "2022-05-12T20:50:56.162Z"
      },
      {
        "duration": 76,
        "start_time": "2022-05-12T20:50:56.258Z"
      },
      {
        "duration": 10,
        "start_time": "2022-05-12T20:50:56.336Z"
      },
      {
        "duration": 1582,
        "start_time": "2022-05-12T20:50:56.349Z"
      },
      {
        "duration": 7,
        "start_time": "2022-05-12T20:50:57.940Z"
      },
      {
        "duration": 49,
        "start_time": "2022-05-12T20:50:57.950Z"
      },
      {
        "duration": 33,
        "start_time": "2022-05-12T20:50:58.002Z"
      },
      {
        "duration": 56,
        "start_time": "2022-05-12T20:50:58.037Z"
      },
      {
        "duration": 8,
        "start_time": "2022-05-12T20:50:58.096Z"
      },
      {
        "duration": 639,
        "start_time": "2022-05-12T20:50:58.106Z"
      },
      {
        "duration": 667,
        "start_time": "2022-05-12T20:50:58.747Z"
      },
      {
        "duration": 14,
        "start_time": "2022-05-12T20:50:59.418Z"
      },
      {
        "duration": 17,
        "start_time": "2022-05-12T20:50:59.434Z"
      },
      {
        "duration": 37,
        "start_time": "2022-05-12T20:50:59.453Z"
      },
      {
        "duration": 5378,
        "start_time": "2022-05-12T20:50:59.493Z"
      },
      {
        "duration": 120,
        "start_time": "2022-05-12T20:51:04.873Z"
      },
      {
        "duration": 22,
        "start_time": "2022-05-12T20:51:04.996Z"
      },
      {
        "duration": 19,
        "start_time": "2022-05-12T20:51:05.021Z"
      },
      {
        "duration": 81,
        "start_time": "2022-05-12T20:51:05.042Z"
      },
      {
        "duration": 2028,
        "start_time": "2022-05-12T20:51:05.126Z"
      },
      {
        "duration": 29,
        "start_time": "2022-05-12T20:51:07.157Z"
      },
      {
        "duration": 49,
        "start_time": "2022-05-12T20:51:07.193Z"
      },
      {
        "duration": 29,
        "start_time": "2022-05-12T20:51:07.245Z"
      },
      {
        "duration": 30,
        "start_time": "2022-05-12T20:51:07.276Z"
      },
      {
        "duration": 51,
        "start_time": "2022-05-12T20:51:07.311Z"
      },
      {
        "duration": 32,
        "start_time": "2022-05-12T20:51:07.364Z"
      },
      {
        "duration": 36,
        "start_time": "2022-05-12T20:51:07.399Z"
      },
      {
        "duration": 37,
        "start_time": "2022-05-12T20:52:01.805Z"
      },
      {
        "duration": 46,
        "start_time": "2022-05-12T20:55:59.970Z"
      },
      {
        "duration": 38,
        "start_time": "2022-05-12T20:56:23.971Z"
      },
      {
        "duration": 6,
        "start_time": "2022-05-12T20:56:53.699Z"
      },
      {
        "duration": 35,
        "start_time": "2022-05-12T20:57:27.665Z"
      },
      {
        "duration": 102,
        "start_time": "2022-05-12T20:59:47.609Z"
      },
      {
        "duration": 7,
        "start_time": "2022-05-12T21:08:04.511Z"
      },
      {
        "duration": 89,
        "start_time": "2022-05-12T21:09:10.471Z"
      },
      {
        "duration": 2228,
        "start_time": "2022-05-12T21:09:33.192Z"
      },
      {
        "duration": 381,
        "start_time": "2022-05-12T21:09:57.809Z"
      },
      {
        "duration": 166,
        "start_time": "2022-05-12T21:10:06.811Z"
      },
      {
        "duration": 441,
        "start_time": "2022-05-12T21:10:23.270Z"
      },
      {
        "duration": 276,
        "start_time": "2022-05-12T21:10:32.890Z"
      },
      {
        "duration": 43,
        "start_time": "2022-05-12T21:10:42.350Z"
      },
      {
        "duration": 1553,
        "start_time": "2022-05-12T21:13:20.113Z"
      },
      {
        "duration": 533,
        "start_time": "2022-05-12T21:13:21.669Z"
      },
      {
        "duration": 5,
        "start_time": "2022-05-12T21:13:22.204Z"
      },
      {
        "duration": 95,
        "start_time": "2022-05-12T21:13:22.212Z"
      },
      {
        "duration": 127,
        "start_time": "2022-05-12T21:13:22.312Z"
      },
      {
        "duration": 77,
        "start_time": "2022-05-12T21:13:22.441Z"
      },
      {
        "duration": 118,
        "start_time": "2022-05-12T21:13:22.520Z"
      },
      {
        "duration": 75,
        "start_time": "2022-05-12T21:13:22.640Z"
      },
      {
        "duration": 19,
        "start_time": "2022-05-12T21:13:22.717Z"
      },
      {
        "duration": 11,
        "start_time": "2022-05-12T21:13:22.738Z"
      },
      {
        "duration": 42,
        "start_time": "2022-05-12T21:13:22.751Z"
      },
      {
        "duration": 8,
        "start_time": "2022-05-12T21:13:22.795Z"
      },
      {
        "duration": 15,
        "start_time": "2022-05-12T21:13:22.806Z"
      },
      {
        "duration": 7,
        "start_time": "2022-05-12T21:13:22.826Z"
      },
      {
        "duration": 14,
        "start_time": "2022-05-12T21:13:22.835Z"
      },
      {
        "duration": 20,
        "start_time": "2022-05-12T21:13:22.889Z"
      },
      {
        "duration": 19,
        "start_time": "2022-05-12T21:13:22.912Z"
      },
      {
        "duration": 9,
        "start_time": "2022-05-12T21:13:22.934Z"
      },
      {
        "duration": 46,
        "start_time": "2022-05-12T21:13:22.945Z"
      },
      {
        "duration": 21,
        "start_time": "2022-05-12T21:13:22.994Z"
      },
      {
        "duration": 15,
        "start_time": "2022-05-12T21:13:23.017Z"
      },
      {
        "duration": 23,
        "start_time": "2022-05-12T21:13:23.034Z"
      },
      {
        "duration": 38,
        "start_time": "2022-05-12T21:13:23.059Z"
      },
      {
        "duration": 12,
        "start_time": "2022-05-12T21:13:23.100Z"
      },
      {
        "duration": 16,
        "start_time": "2022-05-12T21:13:23.114Z"
      },
      {
        "duration": 352,
        "start_time": "2022-05-12T21:13:23.133Z"
      },
      {
        "duration": 12,
        "start_time": "2022-05-12T21:13:23.487Z"
      },
      {
        "duration": 41,
        "start_time": "2022-05-12T21:13:23.502Z"
      },
      {
        "duration": 93,
        "start_time": "2022-05-12T21:13:23.545Z"
      },
      {
        "duration": 8,
        "start_time": "2022-05-12T21:13:23.640Z"
      },
      {
        "duration": 47,
        "start_time": "2022-05-12T21:13:23.651Z"
      },
      {
        "duration": 27,
        "start_time": "2022-05-12T21:13:23.701Z"
      },
      {
        "duration": 15,
        "start_time": "2022-05-12T21:13:23.731Z"
      },
      {
        "duration": 68,
        "start_time": "2022-05-12T21:13:23.749Z"
      },
      {
        "duration": 31,
        "start_time": "2022-05-12T21:13:23.819Z"
      },
      {
        "duration": 42,
        "start_time": "2022-05-12T21:13:23.852Z"
      },
      {
        "duration": 15,
        "start_time": "2022-05-12T21:13:23.897Z"
      },
      {
        "duration": 104,
        "start_time": "2022-05-12T21:13:23.915Z"
      },
      {
        "duration": 171,
        "start_time": "2022-05-12T21:13:24.022Z"
      },
      {
        "duration": 7,
        "start_time": "2022-05-12T21:13:24.198Z"
      },
      {
        "duration": 26,
        "start_time": "2022-05-12T21:13:24.214Z"
      },
      {
        "duration": 75,
        "start_time": "2022-05-12T21:13:24.242Z"
      },
      {
        "duration": 9,
        "start_time": "2022-05-12T21:13:24.320Z"
      },
      {
        "duration": 6,
        "start_time": "2022-05-12T21:13:24.332Z"
      },
      {
        "duration": 57,
        "start_time": "2022-05-12T21:13:24.340Z"
      },
      {
        "duration": 46,
        "start_time": "2022-05-12T21:13:24.399Z"
      },
      {
        "duration": 135,
        "start_time": "2022-05-12T21:13:24.448Z"
      },
      {
        "duration": 11,
        "start_time": "2022-05-12T21:13:24.586Z"
      },
      {
        "duration": 21,
        "start_time": "2022-05-12T21:13:24.603Z"
      },
      {
        "duration": 193,
        "start_time": "2022-05-12T21:13:24.627Z"
      },
      {
        "duration": 8,
        "start_time": "2022-05-12T21:13:24.823Z"
      },
      {
        "duration": 18,
        "start_time": "2022-05-12T21:13:24.833Z"
      },
      {
        "duration": 50,
        "start_time": "2022-05-12T21:13:24.854Z"
      },
      {
        "duration": 12,
        "start_time": "2022-05-12T21:13:24.906Z"
      },
      {
        "duration": 28,
        "start_time": "2022-05-12T21:13:24.921Z"
      },
      {
        "duration": 80,
        "start_time": "2022-05-12T21:13:24.951Z"
      },
      {
        "duration": 7,
        "start_time": "2022-05-12T21:13:25.033Z"
      },
      {
        "duration": 89,
        "start_time": "2022-05-12T21:13:25.043Z"
      },
      {
        "duration": 9,
        "start_time": "2022-05-12T21:13:25.134Z"
      },
      {
        "duration": 11,
        "start_time": "2022-05-12T21:13:25.145Z"
      },
      {
        "duration": 183,
        "start_time": "2022-05-12T21:13:25.182Z"
      },
      {
        "duration": 66,
        "start_time": "2022-05-12T21:13:25.367Z"
      },
      {
        "duration": 49,
        "start_time": "2022-05-12T21:13:25.435Z"
      },
      {
        "duration": 31,
        "start_time": "2022-05-12T21:13:25.487Z"
      },
      {
        "duration": 96,
        "start_time": "2022-05-12T21:13:25.521Z"
      },
      {
        "duration": 6,
        "start_time": "2022-05-12T21:13:25.619Z"
      },
      {
        "duration": 13,
        "start_time": "2022-05-12T21:13:25.627Z"
      },
      {
        "duration": 13,
        "start_time": "2022-05-12T21:13:25.643Z"
      },
      {
        "duration": 46,
        "start_time": "2022-05-12T21:13:25.658Z"
      },
      {
        "duration": 8,
        "start_time": "2022-05-12T21:13:25.707Z"
      },
      {
        "duration": 72,
        "start_time": "2022-05-12T21:13:25.718Z"
      },
      {
        "duration": 25,
        "start_time": "2022-05-12T21:13:25.792Z"
      },
      {
        "duration": 12,
        "start_time": "2022-05-12T21:13:25.819Z"
      },
      {
        "duration": 16,
        "start_time": "2022-05-12T21:13:25.834Z"
      },
      {
        "duration": 507,
        "start_time": "2022-05-12T21:13:25.852Z"
      },
      {
        "duration": 5,
        "start_time": "2022-05-12T21:13:26.362Z"
      },
      {
        "duration": 22,
        "start_time": "2022-05-12T21:13:26.369Z"
      },
      {
        "duration": 62,
        "start_time": "2022-05-12T21:13:26.395Z"
      },
      {
        "duration": 48,
        "start_time": "2022-05-12T21:13:26.483Z"
      },
      {
        "duration": 8,
        "start_time": "2022-05-12T21:13:26.533Z"
      },
      {
        "duration": 1417,
        "start_time": "2022-05-12T21:13:26.544Z"
      },
      {
        "duration": 22,
        "start_time": "2022-05-12T21:13:27.964Z"
      },
      {
        "duration": 41,
        "start_time": "2022-05-12T21:13:27.989Z"
      },
      {
        "duration": 32,
        "start_time": "2022-05-12T21:13:28.033Z"
      },
      {
        "duration": 47,
        "start_time": "2022-05-12T21:13:28.068Z"
      },
      {
        "duration": 8,
        "start_time": "2022-05-12T21:13:28.118Z"
      },
      {
        "duration": 924,
        "start_time": "2022-05-12T21:13:28.129Z"
      },
      {
        "duration": 648,
        "start_time": "2022-05-12T21:13:29.055Z"
      },
      {
        "duration": 22,
        "start_time": "2022-05-12T21:13:29.706Z"
      },
      {
        "duration": 21,
        "start_time": "2022-05-12T21:13:29.730Z"
      },
      {
        "duration": 43,
        "start_time": "2022-05-12T21:13:29.754Z"
      },
      {
        "duration": 5435,
        "start_time": "2022-05-12T21:13:29.801Z"
      },
      {
        "duration": 100,
        "start_time": "2022-05-12T21:13:35.238Z"
      },
      {
        "duration": 60,
        "start_time": "2022-05-12T21:13:35.340Z"
      },
      {
        "duration": 14,
        "start_time": "2022-05-12T21:13:35.403Z"
      },
      {
        "duration": 14,
        "start_time": "2022-05-12T21:13:35.420Z"
      },
      {
        "duration": 91,
        "start_time": "2022-05-12T21:13:35.437Z"
      },
      {
        "duration": 2135,
        "start_time": "2022-05-12T21:13:35.530Z"
      },
      {
        "duration": 27,
        "start_time": "2022-05-12T21:13:37.667Z"
      },
      {
        "duration": 20,
        "start_time": "2022-05-12T21:13:37.699Z"
      },
      {
        "duration": 15,
        "start_time": "2022-05-12T21:13:37.721Z"
      },
      {
        "duration": 14,
        "start_time": "2022-05-12T21:13:37.738Z"
      },
      {
        "duration": 11,
        "start_time": "2022-05-12T21:13:37.783Z"
      },
      {
        "duration": 22,
        "start_time": "2022-05-12T21:13:37.797Z"
      },
      {
        "duration": 22,
        "start_time": "2022-05-12T21:13:37.822Z"
      },
      {
        "duration": 51,
        "start_time": "2022-05-12T21:13:37.848Z"
      },
      {
        "duration": 92,
        "start_time": "2022-05-12T21:13:37.902Z"
      },
      {
        "duration": 2148,
        "start_time": "2022-05-12T21:13:37.997Z"
      },
      {
        "duration": 451,
        "start_time": "2022-05-12T21:13:40.148Z"
      },
      {
        "duration": 306,
        "start_time": "2022-05-12T21:13:40.601Z"
      },
      {
        "duration": 303,
        "start_time": "2022-05-12T21:13:40.909Z"
      },
      {
        "duration": 42,
        "start_time": "2022-05-12T21:13:41.214Z"
      }
    ],
    "kernelspec": {
      "display_name": "Python 3 (ipykernel)",
      "language": "python",
      "name": "python3"
    },
    "language_info": {
      "codemirror_mode": {
        "name": "ipython",
        "version": 3
      },
      "file_extension": ".py",
      "mimetype": "text/x-python",
      "name": "python",
      "nbconvert_exporter": "python",
      "pygments_lexer": "ipython3",
      "version": "3.9.7"
    },
    "toc": {
      "base_numbering": 1,
      "nav_menu": {},
      "number_sections": true,
      "sideBar": true,
      "skip_h1_title": true,
      "title_cell": "Содержание",
      "title_sidebar": "Contents",
      "toc_cell": true,
      "toc_position": {
        "height": "calc(100% - 180px)",
        "left": "10px",
        "top": "150px",
        "width": "227.99632263183594px"
      },
      "toc_section_display": true,
      "toc_window_display": true
    },
    "colab": {
      "provenance": [],
      "toc_visible": true
    }
  },
  "nbformat": 4,
  "nbformat_minor": 5
}